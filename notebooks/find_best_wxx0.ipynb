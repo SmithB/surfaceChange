{
 "cells": [
  {
   "cell_type": "code",
   "execution_count": 1,
   "metadata": {},
   "outputs": [],
   "source": [
    "%load_ext autoreload\n",
    "%autoreload 2"
   ]
  },
  {
   "cell_type": "code",
   "execution_count": 2,
   "metadata": {},
   "outputs": [],
   "source": [
    "import matplotlib.pyplot as plt\n",
    "import numpy as np\n",
    "from LSsurf import smooth_xytb_fit\n",
    "import pointCollection as pc\n",
    "import sparseqr\n",
    "import glob\n",
    "import h5py\n",
    "import os\n",
    "import LSsurf\n"
   ]
  },
  {
   "cell_type": "code",
   "execution_count": 10,
   "metadata": {},
   "outputs": [],
   "source": [
    "%matplotlib widget"
   ]
  },
  {
   "cell_type": "code",
   "execution_count": 108,
   "metadata": {},
   "outputs": [],
   "source": [
    "def safe_interp(x, x0_in, y0_in):\n",
    "    y=np.NaN\n",
    "    \n",
    "    if x0_in[-1] < x0_in[0]:\n",
    "        x0=x0_in[::-1]\n",
    "        y0=y0_in[::-1]\n",
    "    else:\n",
    "        x0=x0_in\n",
    "        y0=y0_in\n",
    "    try:\n",
    "        i0=np.argwhere(x0 < x)[-1][0]\n",
    "        i1=np.argwhere(x0 >=x)[0][0]\n",
    "        #print([i0, i1])\n",
    "        #print( x0[[i0, i1]])\n",
    "        #print( y0[[i0, i1]])\n",
    "        y=np.interp(x, x0[[i0, i1]], y0[[i0, i1]])\n",
    "    except Exception:\n",
    "        pass\n",
    "    return y\n"
   ]
  },
  {
   "cell_type": "code",
   "execution_count": null,
   "metadata": {},
   "outputs": [],
   "source": [
    "! ls -lt /home/besmith4/shared/ATL11_processing/Arctic_003_cycle_03_09/003 | head"
   ]
  },
  {
   "cell_type": "code",
   "execution_count": 13,
   "metadata": {},
   "outputs": [],
   "source": [
    "data_top='/home/besmith4/shared/ATL11_processing/Arctic_003_cycle_03_09/003'\n",
    "#data_top='/Data/ATL11'\n",
    "all_files =   glob.glob(data_top+'/ATL11*01.h5') \n",
    "sorted_files = sorted(all_files, key = os.path.getsize, reverse=True)"
   ]
  },
  {
   "cell_type": "code",
   "execution_count": null,
   "metadata": {},
   "outputs": [],
   "source": []
  },
  {
   "cell_type": "code",
   "execution_count": null,
   "metadata": {},
   "outputs": [],
   "source": [
    "len(all_files)\n",
    "file=sorted_files[0]\n",
    "print(file)\n",
    "#D11=pc.ATL11.data().from_h5(file)\n"
   ]
  },
  {
   "cell_type": "code",
   "execution_count": 12,
   "metadata": {},
   "outputs": [
    {
     "data": {
      "text/plain": [
       "<class 'pointCollection.ATL11.data.data'> with shape (35708, 7),\n",
       "with fields:\n",
       "['latitude', 'longitude', 'h_corr', 'h_corr_sigma', 'h_corr_sigma_systematic', 'delta_time', 'quality_summary', 'ref_pt', 'dem_h', 'x_atc', 'fit_quality', 'cycle_number']"
      ]
     },
     "execution_count": 12,
     "metadata": {},
     "output_type": "execute_result"
    }
   ],
   "source": [
    "sorted_files=['/home/besmith4/shared/ATL11_processing/Arctic_003_cycle_03_09/003/ATL11_091703_0309_003_01.h5']\n",
    "\n",
    "for file in sorted_files[0:1]:\n",
    "    \n",
    "    D11=pc.ATL11.data().from_h5(file)\n",
    "   \n",
    "    plt.figure(1, figsize=[6, 4]); plt.clf()\n",
    "    plt.subplot(131)\n",
    "    plt.plot(D11.x_atc, D11.h_corr,'.')\n",
    "    plt.subplot(132)\n",
    "    ii = (D11.fit_quality[:,0]==0).ravel()\n",
    "    plt.plot(D11.x_atc[ii,:], D11.h_corr[ii,:],'.')\n",
    "    plt.title(os.path.basename(file))\n",
    "   \n",
    "    plt.subplot(133)\n",
    "    plt.plot(D11.x_atc, np.sum(np.isfinite(D11.h_corr), axis=1))\n",
    "D11.index(D11.fit_quality[:,0] ==0)\n",
    "   "
   ]
  },
  {
   "cell_type": "code",
   "execution_count": 4,
   "metadata": {},
   "outputs": [],
   "source": [
    "\n",
    "# define the domain's width in x, y, and time\n",
    "W={'x':4.e4,'y':400,'t':.2}\n",
    "# define the grid center:\n",
    "XR=np.nanmean(D11.x_atc)+np.array([-1, 1])*W['x']/2\n",
    "ctr={'x':XR[0]+W['x']/2., 'y':0., 't':0.}\n",
    "# define the grid spacing\n",
    "spacing={'z0':100, 'dz':100, 'dt':.1}\n"
   ]
  },
  {
   "cell_type": "code",
   "execution_count": 5,
   "metadata": {},
   "outputs": [
    {
     "data": {
      "text/plain": [
       "<class 'pointCollection.data.data'> with shape (33123,),\n",
       "with fields:\n",
       "['x', 'y', 'z', 'time', 'sigma']"
      ]
     },
     "execution_count": 5,
     "metadata": {},
     "output_type": "execute_result"
    }
   ],
   "source": [
    "D=pc.data().from_dict({'x':D11.x_atc[:,0], 'y':np.zeros_like(D11.x_atc[:,0]),'z':D11.h_corr[:,0],\\\n",
    "                       'time':np.zeros_like(D11.x_atc[:,0]), 'sigma':D11.h_corr_sigma[:,0]})\n",
    "# To ensure a time-constant simulation, replicate the data at times -0.5 and 0.5:\n",
    "#data=pc.data().from_list([D, D.copy().assign({'time':np.zeros_like(D.x)}), D.copy().assign({'time':np.zeros_like(D.x)+0.5})])\n",
    "data=D\n",
    "data.index(np.isfinite(data.z) & np.isfinite(data.sigma) & (data.sigma>0))\n"
   ]
  },
  {
   "cell_type": "code",
   "execution_count": null,
   "metadata": {},
   "outputs": [],
   "source": [
    "! gdalsrsinfo -o proj4 EPSG:3413"
   ]
  },
  {
   "cell_type": "code",
   "execution_count": null,
   "metadata": {},
   "outputs": [],
   "source": [
    "2+2"
   ]
  },
  {
   "cell_type": "code",
   "execution_count": 7,
   "metadata": {
    "scrolled": true
   },
   "outputs": [
    {
     "name": "stdout",
     "output_type": "stream",
     "text": [
      "100.0\n",
      "10.0\n",
      "1.0\n",
      "0.3\n",
      "0.1\n",
      "0.03\n",
      "0.01\n",
      "0.003\n",
      "0.001\n"
     ]
    }
   ],
   "source": [
    "# define the expected statistics of the surface\n",
    "from LSsurf import smooth_xytb_fit\n",
    "E_d3zdx2dt=0.0001\n",
    "E_d2z0dx2=0.006\n",
    "E_d2zdt2=5000\n",
    "\n",
    "data_gap_scale=2500\n",
    "\n",
    "data1=data[(data.x > XR[0]) & (data.x < XR[0]+W['x'])]\n",
    "srs_proj4='+proj=stere +lat_0=90 +lat_ts=70 +lon_0=-45 +k=1 +x_0=0 +y_0=0 +datum=WGS84 +units=m +no_defs '\n",
    "mask_file='/home/besmith4/nobackup/masks/Arctic/GimpIceMask_100m_edited.tif'\n",
    "scale_vals=np.array([ 0.001, 0.003, 0.01, 0.03, 0.1, 0.3, 1, 10, 100])[::-1]\n",
    "sigma_hat_vals=np.zeros_like(scale_vals)\n",
    "sigma_hat_s_vals=np.zeros_like(scale_vals)\n",
    "N_vals=np.zeros_like(scale_vals)\n",
    "S=[]\n",
    "d_ed=[]\n",
    "for ii, scale_val in enumerate(scale_vals):\n",
    "    print(scale_val)\n",
    "    # run the fit\n",
    "    E_RMS={'d2z0_dx2': E_d2z0dx2*scale_val,\n",
    "     'dz0_dx': E_d2z0dx2*data_gap_scale*scale_val,\n",
    "     'd3z_dx2dt':E_d3zdx2dt ,\n",
    "     'd2z_dxdt': E_d3zdx2dt*data_gap_scale,\n",
    "     'd2z_dt2': E_d2zdt2}\n",
    "    srs_proj4=None\n",
    "    S.append(smooth_xytb_fit(data=data1, ctr=ctr, W=W, spacing=spacing, E_RMS=E_RMS,\n",
    "                     reference_epoch=1, N_subset=None, compute_E=False,\n",
    "                     max_iterations=5,\n",
    "                     VERBOSE=False, dzdt_lags=[1]))\n",
    "    d_ed.append(S[-1]['data'])\n",
    "    d_ed[-1].index(d_ed[-1].three_sigma_edit==1)\n",
    "    sigma_hat_vals[ii] = LSsurf.RDE(d_ed[-1].z-d_ed[-1].z_est)\n",
    "    N_vals[ii]=d_ed[-1].size\n",
    "    sigma_hat_s_vals[ii] = LSsurf.RDE((d_ed[-1].z-d_ed[-1].z_est)/d_ed[-1].sigma)\n"
   ]
  },
  {
   "cell_type": "code",
   "execution_count": 133,
   "metadata": {},
   "outputs": [
    {
     "data": {
      "application/vnd.jupyter.widget-view+json": {
       "model_id": "f04303a695064e3b8e95970c53af09e1",
       "version_major": 2,
       "version_minor": 0
      },
      "text/plain": [
       "Canvas(toolbar=Toolbar(toolitems=[('Home', 'Reset original view', 'home', 'home'), ('Back', 'Back to previous …"
      ]
     },
     "metadata": {},
     "output_type": "display_data"
    }
   ],
   "source": [
    "    \n",
    "# plot the results\n",
    "fig=plt.figure( figsize=[6,6])\n",
    "fig.clf()\n",
    "x0 = data1.x[0]\n",
    "\n",
    "ax=[]\n",
    "ax.append(fig.add_subplot(221))\n",
    "ax[-1].plot( (data1.x-x0)/1000, data1.z,'ko', label='data', zorder=0)\n",
    "ax[-1].plot((S[-1]['m']['z0'].x-x0)/1000, S[-1]['m']['z0'].z0[0,:],'r',linewidth=1.5, label='z0,tight constraint', zorder=2)\n",
    "ax[-1].plot((S[0]['m']['z0'].x-x0)/1000, S[0]['m']['z0'].z0[0,:],'b', linewidth=1.5, label='z0, loose constraint', zorder=1)\n",
    "ax[-1].set_ylabel('height, m')\n",
    "ax[-1].set_xlabel('x_atc, km')\n",
    "ax[-1].legend();\n",
    "\n",
    "ax.append(fig.add_subplot(222, sharex=ax[0]))\n",
    "ax[-1].plot((d_ed[-1].x-x0)/1000, (d_ed[-1].z-d_ed[-1].z_est),'r.', label='tight constraint')\n",
    "ax[-1].plot((d_ed[0].x-x0)/1000, (d_ed[0].z-d_ed[0].z_est),'b.', label='loose constraint')\n",
    "ax[-1].set_ylabel('residual, m')\n",
    "ax[-1].set_xlabel('x_atc, km')\n",
    "ax[-1].legend()\n",
    "\n",
    "ax.append(fig.add_subplot(223, sharex=ax[0]))\n",
    "ax[-1].plot((d_ed[-1].x-x0)/1000, (d_ed[-1].z-d_ed[-1].z_est)/d_ed[-1].sigma,'r.', label='tight constraint')\n",
    "ax[-1].plot((d_ed[0].x-x0)/1000, (d_ed[0].z-d_ed[0].z_est)/d_ed[0].sigma,'b.', label='loose constraint')\n",
    "ax[-1].set_ylabel('scaled residual')\n",
    "ax[-1].set_xlabel('x_atc, km')\n",
    "\n",
    "ax.append( fig.add_subplot(224))\n",
    "ax[-1].loglog(scale_vals*E_d2z0dx2, sigma_hat_s_vals, label='robust scaled residual')\n",
    "ax[-1].loglog(scale_vals*E_d2z0dx2, N_vals/S[0]['data'].size, label='fraction pts used')\n",
    "\n",
    "\n",
    "this_x0=safe_interp( 1.,sigma_hat_s_vals, scale_vals*E_d2z0dx2)\n",
    "yl=ax[-1].get_ylim()\n",
    "ax[-1].plot(this_x0*np.ones(2), hax[1].get_ylim(), 'k--', linewidth=2, label='$\\sigma_{xx}$'+f'={this_x0:2.2e}')\n",
    "ax[-1].set_ylim(yl)\n",
    "\n",
    "ax[-1].legend()\n",
    "ax[-1].set_xlabel('$\\sigma_{xx}$')\n",
    "\n",
    "fig.tight_layout()"
   ]
  },
  {
   "cell_type": "code",
   "execution_count": 130,
   "metadata": {},
   "outputs": [
    {
     "ename": "AttributeError",
     "evalue": "__delete__",
     "output_type": "error",
     "traceback": [
      "\u001b[0;31m---------------------------------------------------------------------------\u001b[0m",
      "\u001b[0;31mAttributeError\u001b[0m                            Traceback (most recent call last)",
      "\u001b[0;32m<ipython-input-130-97cffe55942d>\u001b[0m in \u001b[0;36m<module>\u001b[0;34m()\u001b[0m\n\u001b[0;32m----> 1\u001b[0;31m \u001b[0mfig\u001b[0m\u001b[0;34m.\u001b[0m\u001b[0msavefig\u001b[0m\u001b[0;34m(\u001b[0m\u001b[0;34m'ATL11_z0_param_selection.tif'\u001b[0m\u001b[0;34m,\u001b[0m \u001b[0mformat\u001b[0m\u001b[0;34m=\u001b[0m\u001b[0;34m'tif'\u001b[0m\u001b[0;34m)\u001b[0m\u001b[0;34m\u001b[0m\u001b[0;34m\u001b[0m\u001b[0m\n\u001b[0m",
      "\u001b[0;32m/home/besmith4/.conda/envs/IS2/lib/python3.7/site-packages/matplotlib/figure.py\u001b[0m in \u001b[0;36msavefig\u001b[0;34m(self, fname, transparent, **kwargs)\u001b[0m\n\u001b[1;32m   2309\u001b[0m                 \u001b[0mpatch\u001b[0m\u001b[0;34m.\u001b[0m\u001b[0mset_edgecolor\u001b[0m\u001b[0;34m(\u001b[0m\u001b[0;34m'none'\u001b[0m\u001b[0;34m)\u001b[0m\u001b[0;34m\u001b[0m\u001b[0;34m\u001b[0m\u001b[0m\n\u001b[1;32m   2310\u001b[0m \u001b[0;34m\u001b[0m\u001b[0m\n\u001b[0;32m-> 2311\u001b[0;31m         \u001b[0mself\u001b[0m\u001b[0;34m.\u001b[0m\u001b[0mcanvas\u001b[0m\u001b[0;34m.\u001b[0m\u001b[0mprint_figure\u001b[0m\u001b[0;34m(\u001b[0m\u001b[0mfname\u001b[0m\u001b[0;34m,\u001b[0m \u001b[0;34m**\u001b[0m\u001b[0mkwargs\u001b[0m\u001b[0;34m)\u001b[0m\u001b[0;34m\u001b[0m\u001b[0;34m\u001b[0m\u001b[0m\n\u001b[0m\u001b[1;32m   2312\u001b[0m \u001b[0;34m\u001b[0m\u001b[0m\n\u001b[1;32m   2313\u001b[0m         \u001b[0;32mif\u001b[0m \u001b[0mtransparent\u001b[0m\u001b[0;34m:\u001b[0m\u001b[0;34m\u001b[0m\u001b[0;34m\u001b[0m\u001b[0m\n",
      "\u001b[0;32m/home/besmith4/.conda/envs/IS2/lib/python3.7/site-packages/matplotlib/backend_bases.py\u001b[0m in \u001b[0;36mprint_figure\u001b[0;34m(self, filename, dpi, facecolor, edgecolor, orientation, format, bbox_inches, pad_inches, bbox_extra_artists, backend, **kwargs)\u001b[0m\n\u001b[1;32m   2223\u001b[0m                 \u001b[0mself\u001b[0m\u001b[0;34m.\u001b[0m\u001b[0mfigure\u001b[0m\u001b[0;34m.\u001b[0m\u001b[0mset_edgecolor\u001b[0m\u001b[0;34m(\u001b[0m\u001b[0morigedgecolor\u001b[0m\u001b[0;34m)\u001b[0m\u001b[0;34m\u001b[0m\u001b[0;34m\u001b[0m\u001b[0m\n\u001b[1;32m   2224\u001b[0m                 \u001b[0mself\u001b[0m\u001b[0;34m.\u001b[0m\u001b[0mfigure\u001b[0m\u001b[0;34m.\u001b[0m\u001b[0mset_canvas\u001b[0m\u001b[0;34m(\u001b[0m\u001b[0mself\u001b[0m\u001b[0;34m)\u001b[0m\u001b[0;34m\u001b[0m\u001b[0;34m\u001b[0m\u001b[0m\n\u001b[0;32m-> 2225\u001b[0;31m             \u001b[0;32mreturn\u001b[0m \u001b[0mresult\u001b[0m\u001b[0;34m\u001b[0m\u001b[0;34m\u001b[0m\u001b[0m\n\u001b[0m\u001b[1;32m   2226\u001b[0m \u001b[0;34m\u001b[0m\u001b[0m\n\u001b[1;32m   2227\u001b[0m     \u001b[0;34m@\u001b[0m\u001b[0mclassmethod\u001b[0m\u001b[0;34m\u001b[0m\u001b[0;34m\u001b[0m\u001b[0m\n",
      "\u001b[0;32m/home/besmith4/.conda/envs/IS2/lib/python3.7/contextlib.py\u001b[0m in \u001b[0;36m__exit__\u001b[0;34m(self, type, value, traceback)\u001b[0m\n\u001b[1;32m    117\u001b[0m         \u001b[0;32mif\u001b[0m \u001b[0mtype\u001b[0m \u001b[0;32mis\u001b[0m \u001b[0;32mNone\u001b[0m\u001b[0;34m:\u001b[0m\u001b[0;34m\u001b[0m\u001b[0;34m\u001b[0m\u001b[0m\n\u001b[1;32m    118\u001b[0m             \u001b[0;32mtry\u001b[0m\u001b[0;34m:\u001b[0m\u001b[0;34m\u001b[0m\u001b[0;34m\u001b[0m\u001b[0m\n\u001b[0;32m--> 119\u001b[0;31m                 \u001b[0mnext\u001b[0m\u001b[0;34m(\u001b[0m\u001b[0mself\u001b[0m\u001b[0;34m.\u001b[0m\u001b[0mgen\u001b[0m\u001b[0;34m)\u001b[0m\u001b[0;34m\u001b[0m\u001b[0;34m\u001b[0m\u001b[0m\n\u001b[0m\u001b[1;32m    120\u001b[0m             \u001b[0;32mexcept\u001b[0m \u001b[0mStopIteration\u001b[0m\u001b[0;34m:\u001b[0m\u001b[0;34m\u001b[0m\u001b[0;34m\u001b[0m\u001b[0m\n\u001b[1;32m    121\u001b[0m                 \u001b[0;32mreturn\u001b[0m \u001b[0;32mFalse\u001b[0m\u001b[0;34m\u001b[0m\u001b[0;34m\u001b[0m\u001b[0m\n",
      "\u001b[0;32m/home/besmith4/.conda/envs/IS2/lib/python3.7/site-packages/matplotlib/cbook/__init__.py\u001b[0m in \u001b[0;36m_setattr_cm\u001b[0;34m(obj, **kwargs)\u001b[0m\n\u001b[1;32m   2064\u001b[0m         \u001b[0;32mfor\u001b[0m \u001b[0mattr\u001b[0m\u001b[0;34m,\u001b[0m \u001b[0morig\u001b[0m \u001b[0;32min\u001b[0m \u001b[0morigs\u001b[0m\u001b[0;34m.\u001b[0m\u001b[0mitems\u001b[0m\u001b[0;34m(\u001b[0m\u001b[0;34m)\u001b[0m\u001b[0;34m:\u001b[0m\u001b[0;34m\u001b[0m\u001b[0;34m\u001b[0m\u001b[0m\n\u001b[1;32m   2065\u001b[0m             \u001b[0;32mif\u001b[0m \u001b[0morig\u001b[0m \u001b[0;32mis\u001b[0m \u001b[0msentinel\u001b[0m\u001b[0;34m:\u001b[0m\u001b[0;34m\u001b[0m\u001b[0;34m\u001b[0m\u001b[0m\n\u001b[0;32m-> 2066\u001b[0;31m                 \u001b[0mdelattr\u001b[0m\u001b[0;34m(\u001b[0m\u001b[0mobj\u001b[0m\u001b[0;34m,\u001b[0m \u001b[0mattr\u001b[0m\u001b[0;34m)\u001b[0m\u001b[0;34m\u001b[0m\u001b[0;34m\u001b[0m\u001b[0m\n\u001b[0m\u001b[1;32m   2067\u001b[0m             \u001b[0;32melse\u001b[0m\u001b[0;34m:\u001b[0m\u001b[0;34m\u001b[0m\u001b[0;34m\u001b[0m\u001b[0m\n\u001b[1;32m   2068\u001b[0m                 \u001b[0msetattr\u001b[0m\u001b[0;34m(\u001b[0m\u001b[0mobj\u001b[0m\u001b[0;34m,\u001b[0m \u001b[0mattr\u001b[0m\u001b[0;34m,\u001b[0m \u001b[0morig\u001b[0m\u001b[0;34m)\u001b[0m\u001b[0;34m\u001b[0m\u001b[0;34m\u001b[0m\u001b[0m\n",
      "\u001b[0;31mAttributeError\u001b[0m: __delete__"
     ]
    }
   ],
   "source": [
    "fig.savefig('ATL11_z0_param_selection.tif', format='tif')"
   ]
  },
  {
   "cell_type": "code",
   "execution_count": 111,
   "metadata": {},
   "outputs": [
    {
     "data": {
      "text/plain": [
       "0.00018278340762478408"
      ]
     },
     "execution_count": 111,
     "metadata": {},
     "output_type": "execute_result"
    }
   ],
   "source": []
  },
  {
   "cell_type": "code",
   "execution_count": null,
   "metadata": {},
   "outputs": [],
   "source": [
    "MOG=pc.grid.data().from_geotif('/Data/MOG/mog1km_2005_hp1_v1.1.tif');\n",
    "MOG.show()\n",
    "D1=D11[(D11.x_atc[:,0] > XR[0]) & (D11.x_atc[:,0] < XR[0]+W['x'])]\n",
    "D1.get_xy(EPSG=3413)\n",
    "plt.plot(D1.x, D1.y,'r.')"
   ]
  },
  {
   "cell_type": "code",
   "execution_count": null,
   "metadata": {},
   "outputs": [],
   "source": [
    "np.max((scale_vals*E_d2z0dx2)[sigma_hat_s_vals>1])"
   ]
  },
  {
   "cell_type": "code",
   "execution_count": null,
   "metadata": {},
   "outputs": [],
   "source": []
  },
  {
   "cell_type": "code",
   "execution_count": null,
   "metadata": {},
   "outputs": [],
   "source": []
  },
  {
   "cell_type": "code",
   "execution_count": null,
   "metadata": {},
   "outputs": [],
   "source": [
    "def read_ATL11_file(file, mask_file):\n",
    "\n",
    "    D11=pc.ATL11.data().from_h5(file)\n",
    "    with h5py.File(file,'r') as h5f:\n",
    "        qs=np.array(h5f['/pt2/ref_surf/quality_summary'])\n",
    "    D11.assign({'ref_surf_quality':qs})\n",
    "    D11.get_xy(EPSG=3413)\n",
    "    XR=np.array([np.nanmin(D11.x), np.nanmax(D11.x)])\n",
    "    YR=np.array([np.nanmin(D11.y), np.nanmax(D11.y)])\n",
    "    mask=pc.grid.data().from_geotif(mask_file, bounds=[XR, YR]).interp(D11.x[:,0], D11.y[:,0]) > 0.5\n",
    "    D11.index(mask & (D11.ref_surf_quality <1))\n",
    "    return D11"
   ]
  },
  {
   "cell_type": "code",
   "execution_count": null,
   "metadata": {},
   "outputs": [],
   "source": [
    "def find_best_wxx0(D11):\n",
    "\n",
    "    scale_vals=np.array([ 0.001, 0.003, 0.01, 0.03, 0.1, 0.3, 1, 3, 10, 30, 100, 300])\n",
    "\n",
    "    E_d3zdx2dt=0.0001\n",
    "    E_d2z0dx2=0.006\n",
    "    E_d2zdt2=5000\n",
    "\n",
    "    data_gap_scale=2500\n",
    "\n",
    "    # define the domain's width in x, y, and time\n",
    "    W={'x':4.e4,'y':200,'t':.2}\n",
    "    # define the grid center:\n",
    "    XR=np.nanmean(D11.x_atc)+np.array([-1, 1])*W['x']/2\n",
    "    ctr={'x':XR[0]+W['x']/2., 'y':0., 't':0.}\n",
    "    # define the grid spacing\n",
    "    spacing={'z0':100, 'dz':100, 'dt':.1}\n",
    "\n",
    "    dN=np.ceil(W['x']/30).astype(int)\n",
    "\n",
    "    L_interp={}\n",
    "\n",
    "    for pt0 in np.arange(D11.ref_pt[0,0]+dN/2, D11.ref_pt[-1,0], dN):\n",
    "        ii=np.flatnonzero(np.abs(D11.ref_pt[:,0]-pt0)<3*dN/2)\n",
    "        N_good=np.sum(np.isfinite(D11.h_corr[ii,:]), axis=0)\n",
    "        if np.max(N_good)<0.9*dN:\n",
    "            continue\n",
    "        bc=np.argmax(N_good)\n",
    "        nb=N_good[bc]\n",
    "\n",
    "        xy_ctr=[np.nanmean(D11.x[ii, bc]), np.nanmean(D11.y[ii, bc]), np.nanmean(D11.h_corr[ii, bc])]\n",
    "\n",
    "        D=pc.data().from_dict({'x':D11.x_atc[ii,bc], 'y':np.zeros_like(ii, dtype=float),'z':D11.h_corr[ii,bc],\\\n",
    "                           'time':np.zeros_like(ii, dtype=float), 'sigma':D11.h_corr_sigma[ii,bc]})\n",
    "        D.index(np.isfinite(D.z) & np.isfinite(D.sigma) & (D.sigma>0))\n",
    "        S=[]\n",
    "        ctr={'x':np.nanmean(D.x), 'y':0., 't':0.}\n",
    "\n",
    "        L_curve={key:[] for key in ['wzz0', 'sigma_hat_s', 'N']}\n",
    "\n",
    "        for  scale_val in scale_vals:\n",
    "            # run the fit\n",
    "            E_RMS={'d2z0_dx2': E_d2z0dx2*scale_val,\n",
    "             'dz0_dx': E_d2z0dx2*data_gap_scale*scale_val,\n",
    "             'd3z_dx2dt':E_d3zdx2dt ,\n",
    "             'd2z_dxdt': E_d3zdx2dt*data_gap_scale,\n",
    "             'd2z_dt2': E_d2zdt2}\n",
    "            S.append(smooth_xytb_fit(data=D, ctr=ctr, W=W, spacing=spacing, E_RMS=E_RMS,\n",
    "                         reference_epoch=1, N_subset=None, compute_E=False,\n",
    "                         max_iterations=5,\n",
    "                         VERBOSE=False, dzdt_lags=[1]))\n",
    "            d_ed = S[-1]['data']\n",
    "            d_ed.index(d_ed.three_sigma_edit==1)\n",
    "\n",
    "            L_curve['sigma_hat_s'].append( LSsurf.RDE((d_ed.z-d_ed.z_est)/d_ed.sigma))\n",
    "            L_curve['wzz0'].append(E_RMS['d2z0_dx2'])\n",
    "            L_curve['N'].append(d_ed.size)\n",
    "        for key in L_curve.keys():\n",
    "            L_curve[key] = np.array(L_curve[key])\n",
    "\n",
    "        L_interp[pt0] = {\"w_for_r_of_1\":safe_interp(1, L_curve['sigma_hat_s'], L_curve['wzz0']), \n",
    "                        'w_for_r_10pct_above_min':safe_interp(1.1*L_curve['sigma_hat_s'].min(), L_curve['sigma_hat_s'], L_curve['wzz0']), \n",
    "                        'x': xy_ctr[0], \n",
    "                        'y': xy_ctr[1],\n",
    "                        'z': xy_ctr[2]}\n",
    "    return L_interp"
   ]
  },
  {
   "cell_type": "code",
   "execution_count": null,
   "metadata": {},
   "outputs": [],
   "source": [
    "! ls '/home/besmith4/nobackup/masks'"
   ]
  },
  {
   "cell_type": "code",
   "execution_count": null,
   "metadata": {},
   "outputs": [],
   "source": [
    "\n",
    "D11=read_ATL11_file(sorted_files[10],'/home/besmith4/nobackup/masks/Arctic/GimpIceMask_100m_edited.tif' )\n",
    "L_interp=find_best_wxx0(D11)\n",
    "\n",
    "fig=plt.figure(6); plt.clf()\n",
    "h0=fig.add_subplot(211)\n",
    "plt.plot(D11.ref_pt[:,0], D11.h_corr,'.')\n",
    "fig.add_subplot(212, sharex=h0)\n",
    "plt.plot(np.array(list(L_interp.keys())), np.log10(np.array([L_interp[key]['w_for_r_10_pct_above_min'] for key in L_interp.keys()])),'ks')\n",
    "plt.plot(np.array(list(L_interp.keys())), np.log10(np.array([L_interp[key]['w_for_r_of_1'] for key in L_interp.keys()])),'r*')\n",
    "\n"
   ]
  },
  {
   "cell_type": "markdown",
   "metadata": {},
   "source": [
    "## Make a queue of files to analyze"
   ]
  },
  {
   "cell_type": "code",
   "execution_count": 32,
   "metadata": {},
   "outputs": [],
   "source": [
    "themask=pc.grid.data().from_geotif('/home/besmith4/nobackup/masks/Arctic/GimpIceMask_100m_edited.tif')[::20, ::20]\n",
    "readme=np.zeros(len(sorted_files), dtype=bool)\n",
    "in_list=[]\n",
    "out_list=[]\n",
    "fail_list=[]\n",
    "for file_count, file in enumerate(sorted_files):\n",
    "    try:\n",
    "        with h5py.File(file,'r') as h5f:\n",
    "            Dll=pc.data().from_dict({'latitude':np.array(h5f['/pt2/latitude'])[::10], 'longitude':np.array(h5f['/pt2/longitude'])[::10]})\n",
    "        Dll.get_xy(EPSG=3413)\n",
    "    except Exception as e:\n",
    "        fail_list += [file]\n",
    "        continue\n",
    "    N_good=np.nansum(themask.interp(Dll.x, Dll.y)>0.5)\n",
    "    if N_good > 50:\n",
    "        in_list += [file]\n",
    "    else:\n",
    "        out_list += [file]\n",
    "    "
   ]
  },
  {
   "cell_type": "code",
   "execution_count": 46,
   "metadata": {},
   "outputs": [
    {
     "name": "stdout",
     "output_type": "stream",
     "text": [
      "mkdir: cannot create directory ‘/home/besmith4/nobackup/ATL11_wxx_analysis_v1/’: File exists\n"
     ]
    }
   ],
   "source": [
    "import re\n",
    "re_11=re.compile('\\d\\d_01.h5')\n",
    "! mkdir /home/besmith4/nobackup/ATL11_wxx_analysis_v1/\n",
    "mask_file='/home/besmith4/nobackup/masks/Arctic/GimpIceMask_100m_edited.tif'\n",
    "with open('/home/besmith4/temp/wxx_queue.txt','w') as fh:\n",
    "    for file in in_list:\n",
    "        if re_11.search(file) is None:\n",
    "            continue\n",
    "        out_file = '/home/besmith4/nobackup/ATL11_wxx_analysis_v1/'+os.path.basename(file)\n",
    "        fh.write(f'source activate IS2; python3 ~/git_repos/surfaceChange/scripts//best_wxx0_for_ATL11.py {file} {mask_file} {out_file}\\n')"
   ]
  },
  {
   "cell_type": "code",
   "execution_count": null,
   "metadata": {},
   "outputs": [],
   "source": []
  },
  {
   "cell_type": "code",
   "execution_count": null,
   "metadata": {},
   "outputs": [],
   "source": []
  },
  {
   "cell_type": "code",
   "execution_count": null,
   "metadata": {},
   "outputs": [],
   "source": []
  },
  {
   "cell_type": "code",
   "execution_count": null,
   "metadata": {},
   "outputs": [],
   "source": []
  },
  {
   "cell_type": "code",
   "execution_count": 47,
   "metadata": {},
   "outputs": [],
   "source": [
    "out_files=glob.glob('/home/besmith4/nobackup/ATL11_wxx_analysis_v1/*.h5')\n",
    "D_list=[]\n",
    "for file in out_files:\n",
    "    D_list.append(pc.data().from_h5(file, field_dict={None:['w_for_r_10pct_above_min','w_for_r_of_1', 'x','y','z' ]}))"
   ]
  },
  {
   "cell_type": "markdown",
   "metadata": {},
   "source": [
    "w_for_r_10pct_above_min  Dataset {13/Inf}\n",
    "w_for_r_of_1             Dataset {13/Inf}\n",
    "x                        Dataset {13/Inf}\n",
    "y                        Dataset {13/Inf}\n",
    "z                        Dataset {13/Inf}"
   ]
  },
  {
   "cell_type": "code",
   "execution_count": 48,
   "metadata": {},
   "outputs": [
    {
     "data": {
      "text/plain": [
       "<class 'pointCollection.data.data'> with shape (12681,),\n",
       "with fields:\n",
       "['w_for_r_10pct_above_min', 'w_for_r_of_1', 'z', 'y', 'x']"
      ]
     },
     "execution_count": 48,
     "metadata": {},
     "output_type": "execute_result"
    }
   ],
   "source": [
    "D_all=pc.data().from_list(D_list)\n",
    "D_all.index(np.isfinite(D_all.w_for_r_of_1))"
   ]
  },
  {
   "cell_type": "code",
   "execution_count": 49,
   "metadata": {},
   "outputs": [
    {
     "data": {
      "application/vnd.jupyter.widget-view+json": {
       "model_id": "16e4f3c9aeb04c82bae6f33b87841888",
       "version_major": 2,
       "version_minor": 0
      },
      "text/plain": [
       "Canvas(toolbar=Toolbar(toolitems=[('Home', 'Reset original view', 'home', 'home'), ('Back', 'Back to previous …"
      ]
     },
     "metadata": {},
     "output_type": "display_data"
    }
   ],
   "source": [
    "plt.figure(figsize=[8,4]);\n",
    "plt.clf()\n",
    "hax=plt.gcf().subplots(1,2)\n",
    "\n",
    "ii=np.argsort(D_all.w_for_r_of_1)\n",
    "plt.sca(hax[0])\n",
    "plt.scatter(D_all.x[ii], D_all.y[ii], 4, c=np.log10(D_all.w_for_r_of_1[ii]), vmin=-4, vmax=-1.5); \n",
    "plt.axis('equal')\n",
    "plt.colorbar( shrink=0.5, extend='both', orientation='horizontal', label='$log_{10} (\\sigma_{xx0})$');\n",
    "\n",
    "hax[1].hist(np.log10(D_all.w_for_r_of_1), np.arange(-4.5, -1.5, 0.1))\n",
    "hax[1].set_xlabel('$log_{10} (\\sigma_{xx0})$')\n",
    "hax[1].yaxis.set_ticks_position('right')\n",
    "hax[1].plot(np.log10(0.006)*np.ones(2), hax[1].get_ylim(),'k--')\n",
    "plt.tight_layout()"
   ]
  },
  {
   "cell_type": "code",
   "execution_count": 73,
   "metadata": {},
   "outputs": [],
   "source": [
    "ux0=[]\n",
    "nx0=[]\n",
    "D_mb0=[]\n",
    "for dxi in [-1.e4, 0, 1.e4]:\n",
    "    for dyi in [-1.e4, 0, 1.e4]:\n",
    "        x0=np.round((D_all.x+1j*D_all.y-(dxi+1j*dyi))/2.e4)*2.e4+(dxi+1j*dyi)\n",
    "        ux0i=np.unique(x0)\n",
    "        nx0i=np.zeros_like(ux0i, dtype=float)\n",
    "        D_mb0i=np.zeros_like(ux0i, dtype=float)\n",
    "        for ii, xx0 in enumerate(ux0i):\n",
    "            these=x0==xx0\n",
    "            nx0i[ii]=np.sum(these)\n",
    "            D_mb0i[ii]=np.nanmedian(D_all.w_for_r_of_1[these])\n",
    "        ux0 += [ux0i]\n",
    "        nx0 += [nx0i]\n",
    "        D_mb0 += [D_mb0i]\n",
    "\n",
    "ux0=np.concatenate(ux0)\n",
    "nx0=np.concatenate(nx0)\n",
    "D_mb0=np.concatenate(D_mb0)\n",
    "\n",
    "ux0=ux0[nx0>3]\n",
    "D_mb0=D_mb0[nx0>3]\n",
    "nx0=nx0[nx0>3]\n"
   ]
  },
  {
   "cell_type": "code",
   "execution_count": 77,
   "metadata": {},
   "outputs": [],
   "source": [
    "_, temp=np.unique(ux0, return_index=True)\n",
    "ux0=ux0[temp]\n",
    "D_mb0=D_mb0[temp]\n",
    "nx0=nx0[temp]"
   ]
  },
  {
   "cell_type": "code",
   "execution_count": 121,
   "metadata": {},
   "outputs": [
    {
     "data": {
      "application/vnd.jupyter.widget-view+json": {
       "model_id": "87d56cfdd96c4823ae13b86589f494c5",
       "version_major": 2,
       "version_minor": 0
      },
      "text/plain": [
       "Canvas(toolbar=Toolbar(toolitems=[('Home', 'Reset original view', 'home', 'home'), ('Back', 'Back to previous …"
      ]
     },
     "metadata": {},
     "output_type": "display_data"
    }
   ],
   "source": [
    "plt.figure( figsize=[5,3.5]);\n",
    "plt.clf()\n",
    "hax=plt.gcf().subplots(1,2)\n",
    "\n",
    "ii=np.argsort(D_mb0)\n",
    "plt.sca(hax[0])\n",
    "plt.scatter(np.real(ux0[ii]), np.imag(ux0[ii]), 6, c=np.log10(D_mb0[ii]), vmin=-4, vmax=-2.5)\n",
    "plt.colorbar( shrink=0.5, extend='both',  label='$log_{10} (\\sigma_{xx})$');\n",
    "plt.gca().set_xticks([])\n",
    "plt.gca().set_yticks([])\n",
    "#orientation='horizontal',\n",
    "\n",
    "hax[1].hist(np.log10(D_mb0), np.arange(-4.1, -2.5, 0.025))\n",
    "hax[1].set_xlabel('$log_{10} (\\sigma_{xx})$')\n",
    "#hax[1].yaxis.set_ticks_position('right')\n",
    "#hax[1].yaxis.tick_right()\n",
    "this_p98=scoreatpercentile(D_mb0, 98)\n",
    "hax[1].plot(np.log10(this_p98)*np.ones(2), hax[1].get_ylim(),'k--', label=\"$\\sigma_{xx}$=\"+f\"{this_p98:2.1e}\")\n",
    "hax[1].set_ylabel('count')\n",
    "hax[1].legend()\n",
    "plt.tight_layout()\n",
    "\n",
    "plt.axis('equal');  \n",
    "plt.tight_layout()"
   ]
  },
  {
   "cell_type": "code",
   "execution_count": 126,
   "metadata": {},
   "outputs": [
    {
     "ename": "AttributeError",
     "evalue": "__delete__",
     "output_type": "error",
     "traceback": [
      "\u001b[0;31m---------------------------------------------------------------------------\u001b[0m",
      "\u001b[0;31mAttributeError\u001b[0m                            Traceback (most recent call last)",
      "\u001b[0;32m<ipython-input-126-f741bdae2442>\u001b[0m in \u001b[0;36m<module>\u001b[0;34m()\u001b[0m\n\u001b[0;32m----> 1\u001b[0;31m \u001b[0mplt\u001b[0m\u001b[0;34m.\u001b[0m\u001b[0mgcf\u001b[0m\u001b[0;34m(\u001b[0m\u001b[0;34m)\u001b[0m\u001b[0;34m.\u001b[0m\u001b[0msavefig\u001b[0m\u001b[0;34m(\u001b[0m\u001b[0;34m'sigma_xx_map.png'\u001b[0m\u001b[0;34m,\u001b[0m \u001b[0mformat\u001b[0m\u001b[0;34m=\u001b[0m\u001b[0;34m'png'\u001b[0m\u001b[0;34m)\u001b[0m\u001b[0;34m\u001b[0m\u001b[0;34m\u001b[0m\u001b[0m\n\u001b[0m",
      "\u001b[0;32m/home/besmith4/.conda/envs/IS2/lib/python3.7/site-packages/matplotlib/figure.py\u001b[0m in \u001b[0;36msavefig\u001b[0;34m(self, fname, transparent, **kwargs)\u001b[0m\n\u001b[1;32m   2309\u001b[0m                 \u001b[0mpatch\u001b[0m\u001b[0;34m.\u001b[0m\u001b[0mset_edgecolor\u001b[0m\u001b[0;34m(\u001b[0m\u001b[0;34m'none'\u001b[0m\u001b[0;34m)\u001b[0m\u001b[0;34m\u001b[0m\u001b[0;34m\u001b[0m\u001b[0m\n\u001b[1;32m   2310\u001b[0m \u001b[0;34m\u001b[0m\u001b[0m\n\u001b[0;32m-> 2311\u001b[0;31m         \u001b[0mself\u001b[0m\u001b[0;34m.\u001b[0m\u001b[0mcanvas\u001b[0m\u001b[0;34m.\u001b[0m\u001b[0mprint_figure\u001b[0m\u001b[0;34m(\u001b[0m\u001b[0mfname\u001b[0m\u001b[0;34m,\u001b[0m \u001b[0;34m**\u001b[0m\u001b[0mkwargs\u001b[0m\u001b[0;34m)\u001b[0m\u001b[0;34m\u001b[0m\u001b[0;34m\u001b[0m\u001b[0m\n\u001b[0m\u001b[1;32m   2312\u001b[0m \u001b[0;34m\u001b[0m\u001b[0m\n\u001b[1;32m   2313\u001b[0m         \u001b[0;32mif\u001b[0m \u001b[0mtransparent\u001b[0m\u001b[0;34m:\u001b[0m\u001b[0;34m\u001b[0m\u001b[0;34m\u001b[0m\u001b[0m\n",
      "\u001b[0;32m/home/besmith4/.conda/envs/IS2/lib/python3.7/site-packages/matplotlib/backend_bases.py\u001b[0m in \u001b[0;36mprint_figure\u001b[0;34m(self, filename, dpi, facecolor, edgecolor, orientation, format, bbox_inches, pad_inches, bbox_extra_artists, backend, **kwargs)\u001b[0m\n\u001b[1;32m   2223\u001b[0m                 \u001b[0mself\u001b[0m\u001b[0;34m.\u001b[0m\u001b[0mfigure\u001b[0m\u001b[0;34m.\u001b[0m\u001b[0mset_edgecolor\u001b[0m\u001b[0;34m(\u001b[0m\u001b[0morigedgecolor\u001b[0m\u001b[0;34m)\u001b[0m\u001b[0;34m\u001b[0m\u001b[0;34m\u001b[0m\u001b[0m\n\u001b[1;32m   2224\u001b[0m                 \u001b[0mself\u001b[0m\u001b[0;34m.\u001b[0m\u001b[0mfigure\u001b[0m\u001b[0;34m.\u001b[0m\u001b[0mset_canvas\u001b[0m\u001b[0;34m(\u001b[0m\u001b[0mself\u001b[0m\u001b[0;34m)\u001b[0m\u001b[0;34m\u001b[0m\u001b[0;34m\u001b[0m\u001b[0m\n\u001b[0;32m-> 2225\u001b[0;31m             \u001b[0;32mreturn\u001b[0m \u001b[0mresult\u001b[0m\u001b[0;34m\u001b[0m\u001b[0;34m\u001b[0m\u001b[0m\n\u001b[0m\u001b[1;32m   2226\u001b[0m \u001b[0;34m\u001b[0m\u001b[0m\n\u001b[1;32m   2227\u001b[0m     \u001b[0;34m@\u001b[0m\u001b[0mclassmethod\u001b[0m\u001b[0;34m\u001b[0m\u001b[0;34m\u001b[0m\u001b[0m\n",
      "\u001b[0;32m/home/besmith4/.conda/envs/IS2/lib/python3.7/contextlib.py\u001b[0m in \u001b[0;36m__exit__\u001b[0;34m(self, type, value, traceback)\u001b[0m\n\u001b[1;32m    117\u001b[0m         \u001b[0;32mif\u001b[0m \u001b[0mtype\u001b[0m \u001b[0;32mis\u001b[0m \u001b[0;32mNone\u001b[0m\u001b[0;34m:\u001b[0m\u001b[0;34m\u001b[0m\u001b[0;34m\u001b[0m\u001b[0m\n\u001b[1;32m    118\u001b[0m             \u001b[0;32mtry\u001b[0m\u001b[0;34m:\u001b[0m\u001b[0;34m\u001b[0m\u001b[0;34m\u001b[0m\u001b[0m\n\u001b[0;32m--> 119\u001b[0;31m                 \u001b[0mnext\u001b[0m\u001b[0;34m(\u001b[0m\u001b[0mself\u001b[0m\u001b[0;34m.\u001b[0m\u001b[0mgen\u001b[0m\u001b[0;34m)\u001b[0m\u001b[0;34m\u001b[0m\u001b[0;34m\u001b[0m\u001b[0m\n\u001b[0m\u001b[1;32m    120\u001b[0m             \u001b[0;32mexcept\u001b[0m \u001b[0mStopIteration\u001b[0m\u001b[0;34m:\u001b[0m\u001b[0;34m\u001b[0m\u001b[0;34m\u001b[0m\u001b[0m\n\u001b[1;32m    121\u001b[0m                 \u001b[0;32mreturn\u001b[0m \u001b[0;32mFalse\u001b[0m\u001b[0;34m\u001b[0m\u001b[0;34m\u001b[0m\u001b[0m\n",
      "\u001b[0;32m/home/besmith4/.conda/envs/IS2/lib/python3.7/site-packages/matplotlib/cbook/__init__.py\u001b[0m in \u001b[0;36m_setattr_cm\u001b[0;34m(obj, **kwargs)\u001b[0m\n\u001b[1;32m   2064\u001b[0m         \u001b[0;32mfor\u001b[0m \u001b[0mattr\u001b[0m\u001b[0;34m,\u001b[0m \u001b[0morig\u001b[0m \u001b[0;32min\u001b[0m \u001b[0morigs\u001b[0m\u001b[0;34m.\u001b[0m\u001b[0mitems\u001b[0m\u001b[0;34m(\u001b[0m\u001b[0;34m)\u001b[0m\u001b[0;34m:\u001b[0m\u001b[0;34m\u001b[0m\u001b[0;34m\u001b[0m\u001b[0m\n\u001b[1;32m   2065\u001b[0m             \u001b[0;32mif\u001b[0m \u001b[0morig\u001b[0m \u001b[0;32mis\u001b[0m \u001b[0msentinel\u001b[0m\u001b[0;34m:\u001b[0m\u001b[0;34m\u001b[0m\u001b[0;34m\u001b[0m\u001b[0m\n\u001b[0;32m-> 2066\u001b[0;31m                 \u001b[0mdelattr\u001b[0m\u001b[0;34m(\u001b[0m\u001b[0mobj\u001b[0m\u001b[0;34m,\u001b[0m \u001b[0mattr\u001b[0m\u001b[0;34m)\u001b[0m\u001b[0;34m\u001b[0m\u001b[0;34m\u001b[0m\u001b[0m\n\u001b[0m\u001b[1;32m   2067\u001b[0m             \u001b[0;32melse\u001b[0m\u001b[0;34m:\u001b[0m\u001b[0;34m\u001b[0m\u001b[0;34m\u001b[0m\u001b[0m\n\u001b[1;32m   2068\u001b[0m                 \u001b[0msetattr\u001b[0m\u001b[0;34m(\u001b[0m\u001b[0mobj\u001b[0m\u001b[0;34m,\u001b[0m \u001b[0mattr\u001b[0m\u001b[0;34m,\u001b[0m \u001b[0morig\u001b[0m\u001b[0;34m)\u001b[0m\u001b[0;34m\u001b[0m\u001b[0;34m\u001b[0m\u001b[0m\n",
      "\u001b[0;31mAttributeError\u001b[0m: __delete__"
     ]
    }
   ],
   "source": [
    "plt.gcf().savefig('sigma_xx_map.png', format='png')"
   ]
  },
  {
   "cell_type": "code",
   "execution_count": null,
   "metadata": {},
   "outputs": [],
   "source": [
    "plt.gcf()"
   ]
  },
  {
   "cell_type": "code",
   "execution_count": 107,
   "metadata": {},
   "outputs": [
    {
     "data": {
      "text/plain": [
       "'/att/gpfsfs/home/besmith4/git_repos/surfaceChange/notebooks'"
      ]
     },
     "execution_count": 107,
     "metadata": {},
     "output_type": "execute_result"
    }
   ],
   "source": [
    "pwd"
   ]
  },
  {
   "cell_type": "code",
   "execution_count": 70,
   "metadata": {},
   "outputs": [],
   "source": [
    "from scipy.stats import scoreatpercentile\n"
   ]
  },
  {
   "cell_type": "code",
   "execution_count": 124,
   "metadata": {},
   "outputs": [
    {
     "data": {
      "text/plain": [
       "0.0005864714439832331"
      ]
     },
     "execution_count": 124,
     "metadata": {},
     "output_type": "execute_result"
    }
   ],
   "source": [
    "this_p98/np.sqrt(8)"
   ]
  },
  {
   "cell_type": "code",
   "execution_count": null,
   "metadata": {},
   "outputs": [],
   "source": []
  }
 ],
 "metadata": {
  "kernelspec": {
   "display_name": "IS2",
   "language": "python",
   "name": "is2"
  },
  "language_info": {
   "codemirror_mode": {
    "name": "ipython",
    "version": 3
   },
   "file_extension": ".py",
   "mimetype": "text/x-python",
   "name": "python",
   "nbconvert_exporter": "python",
   "pygments_lexer": "ipython3",
   "version": "3.7.8"
  }
 },
 "nbformat": 4,
 "nbformat_minor": 4
}
