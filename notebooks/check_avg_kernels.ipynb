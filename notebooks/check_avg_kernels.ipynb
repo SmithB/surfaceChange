{
 "cells": [
  {
   "cell_type": "code",
   "execution_count": 1,
   "metadata": {},
   "outputs": [],
   "source": [
    "import matplotlib.pyplot as plt\n",
    "import numpy as np\n",
    "import pointCollection as pc"
   ]
  },
  {
   "cell_type": "code",
   "execution_count": 2,
   "metadata": {},
   "outputs": [],
   "source": [
    "%matplotlib notebook\n",
    "%load_ext autoreload\n",
    "%autoreload 2"
   ]
  },
  {
   "cell_type": "code",
   "execution_count": 3,
   "metadata": {},
   "outputs": [],
   "source": [
    "\n",
    "from LSsurf.fd_grid import fd_grid\n",
    "from LSsurf.lin_op import lin_op\n",
    "import scipy.sparse as sp\n",
    "from LSsurf.smooth_xytb_fit import sum_cell_area\n",
    "from LSsurf.smooth_xytb_fit import calc_cell_area\n",
    "from LSsurf.smooth_xytb_fit import setup_averaging_ops\n"
   ]
  },
  {
   "cell_type": "code",
   "execution_count": 4,
   "metadata": {},
   "outputs": [],
   "source": [
    "\n",
    "xc=np.array([0, -5.e5])\n",
    "deltas=[100., 100.]\n",
    "bounds=[xc[1]+np.array([-3.e4, 3.e4]), xc[0]+np.array([-3.e4, 3.e4])]\n",
    "srs_proj4='+proj=stere +lat_0=90 +lat_ts=70 +lon_0=-45 +k=1 +x_0=0 +y_0=0 +datum=WGS84 +units=m +no_defs '\n",
    "\n",
    "grid_z0=fd_grid(bounds, deltas, srs_proj4=srs_proj4)\n",
    "grid_dz=fd_grid(bounds+[np.array([0, 2])], [1.e3, 1.e3, 0.25])\n",
    "\n",
    "grid_10km=fd_grid(bounds+[np.array([0, 2])], [1.e4, 1.e4, 0.25])\n",
    "\n",
    "[xg, yg]=np.meshgrid(grid_z0.ctrs[1], grid_z0.ctrs[0])\n",
    "#mask[:,grid_z0.ctrs[1]<np.mean(grid_z0.ctrs[1])-150]=1\n",
    "mask=np.zeros(grid_z0.ctrs[0].size*np.array([1,1]))\n",
    "mask[np.abs((xg-xc[0])+1j*(yg-xc[1]))<12000]=1\n",
    "\n",
    "grid_z0.mask=mask\n",
    "\n",
    "\n",
    "cell_area_100m = calc_cell_area(grid_z0)\n",
    "cell_area_1km, op = sum_cell_area(grid_z0, grid_dz, return_op=True)\n",
    "args={'avg_scales':[1.e4], 'dzdt_lags':[1, 4]}\n",
    "\n",
    "ops=setup_averaging_ops(grid_dz, grid_dz.col_N, args, cell_area=cell_area_1km)\n",
    "grid_10km=ops['avg_dz_10000m'].dst_grid"
   ]
  },
  {
   "cell_type": "markdown",
   "metadata": {},
   "source": [
    "1. Check if the cell area is the same between 100 m and 10 km"
   ]
  },
  {
   "cell_type": "code",
   "execution_count": 5,
   "metadata": {},
   "outputs": [
    {
     "name": "stdout",
     "output_type": "stream",
     "text": [
      "[479113442.39076686, 479113442.3907669, 479113442.39076686]\n",
      "[ 5.96046448e-08 -5.96046448e-08]\n"
     ]
    }
   ],
   "source": [
    "areas_100m_1km_10km=[np.sum(cell_area_100m*mask), np.sum(cell_area_1km), np.sum(grid_10km.cell_area)]\n",
    "\n",
    "print(areas_100m_1km_10km)\n",
    "print(np.diff(np.array(areas_100m_1km_10km)))"
   ]
  },
  {
   "cell_type": "markdown",
   "metadata": {},
   "source": [
    "2. Do the calculation the way it's done in the ATL11_to_ATL15 code!  The difference [before I fixed it] was that setup_averaging_ops did not get a \"cell_area\" keyword."
   ]
  },
  {
   "cell_type": "code",
   "execution_count": 10,
   "metadata": {},
   "outputs": [
    {
     "name": "stdout",
     "output_type": "stream",
     "text": [
      "[479.11344239 479.11344239 463.08048777]\n",
      "[ 5.96046448e-08 -1.60329546e+07]\n"
     ]
    }
   ],
   "source": [
    "grid_z01=fd_grid(bounds, deltas, srs_proj4=srs_proj4)\n",
    "grid_z01.mask=mask\n",
    "grid_dz1=fd_grid(bounds+[np.array([0, 2])], [1.e3, 1.e3, 0.25], srs_proj4=srs_proj4)\n",
    "\n",
    "grid_z01.cell_area=calc_cell_area(grid_z01)\n",
    "grid_dz1.cell_area=sum_cell_area(grid_z01, grid_dz1)\n",
    "grid_dz1.mask = np.round(pc.grid.data().from_dict({'x':grid_z01.ctrs[1], 'y':grid_z01.ctrs[0], 'z':mask}).interp(grid_dz1.ctrs[1], grid_dz1.ctrs[0], gridded=True))\n",
    "ops1=setup_averaging_ops(grid_dz1, grid_dz1.col_N, args)\n",
    "\n",
    "areas1_100m_1km_10km=np.array([np.sum(grid_z01.cell_area*mask), np.sum(grid_dz1.cell_area), np.sum(ops1['avg_dz_10000m'].dst_grid.cell_area)])\n",
    "\n",
    "print(areas1_100m_1km_10km/1.e6)\n",
    "print(np.diff(areas1_100m_1km_10km))"
   ]
  },
  {
   "cell_type": "code",
   "execution_count": null,
   "metadata": {},
   "outputs": [],
   "source": [
    "grid_dz1.mask"
   ]
  },
  {
   "cell_type": "code",
   "execution_count": null,
   "metadata": {},
   "outputs": [],
   "source": [
    "plt.figure();plt.imshow(grid_z01.cell_area)"
   ]
  },
  {
   "cell_type": "code",
   "execution_count": null,
   "metadata": {},
   "outputs": [],
   "source": []
  },
  {
   "cell_type": "code",
   "execution_count": null,
   "metadata": {},
   "outputs": [],
   "source": [
    "op_row = lambda this_grid, subs : this_grid.global_ind([np.array([ii]) for ii in subs])"
   ]
  },
  {
   "cell_type": "code",
   "execution_count": null,
   "metadata": {},
   "outputs": [],
   "source": [
    "op_row(grid_10km, [3, 3, 0])"
   ]
  },
  {
   "cell_type": "code",
   "execution_count": null,
   "metadata": {},
   "outputs": [],
   "source": [
    "av_1km=op.toCSR()\n",
    "print(av_1km.shape)\n",
    "temp=av_1km[21*61+30,:].toarray()\n",
    "print(temp.shape)\n",
    "temp=temp.reshape(mask.shape)\n",
    "#plt.figure(); plt.imshow(temp)\n",
    "rows=np.flatnonzero(np.any(temp, axis=0))\n",
    "print(rows)\n",
    "print(len(rows))\n",
    "#print(rows.shape)\n",
    "print(temp.sum())"
   ]
  },
  {
   "cell_type": "code",
   "execution_count": null,
   "metadata": {},
   "outputs": [],
   "source": [
    "print((np.sum(cell_area_1km)-np.sum(cell_area_100m*mask))/np.sum(cell_area_100m*mask))\n",
    "print((np.sum(ops['avg_dz_10000m'].dst_grid.cell_area)-np.sum(cell_area_1km))/np.sum(cell_area_100m))"
   ]
  },
  {
   "cell_type": "code",
   "execution_count": null,
   "metadata": {},
   "outputs": [],
   "source": [
    "fig=plt.figure(); \n",
    "hax=fig.subplots(1,3).ravel()\n",
    "hax[0].imshow(cell_area_100m*mask);\n",
    "hax[0].set_title(str(np.sum(cell_area_100m*mask)/1.e4))\n",
    "hax[1].imshow(cell_area_1km)\n",
    "hax[1].set_title(str(np.sum(cell_area_1km)/1.e4))\n",
    "hax[2].imshow(ops['avg_dz_10000m'].dst_grid.cell_area)\n",
    "hax[2].set_title(str(np.sum(ops['avg_dz_10000m'].dst_grid.cell_area)/1.e4))\n",
    "plt.tight_layout()"
   ]
  },
  {
   "cell_type": "code",
   "execution_count": null,
   "metadata": {},
   "outputs": [],
   "source": [
    "# the cell areas for adjacent output cells tesselate (there's no seam between them when added)\n",
    "mtx_10km=ops['avg_dz_10000m'].toCSR(row_N=np.prod(grid_dz.shape))\n",
    "r1=mtx_10km[op_row(grid_10km, [3, 3, 0]),:]*ops['avg_dz_10000m'].dst_grid.cell_area[3, 3]\n",
    "r2=mtx_10km[op_row(grid_10km, [3, 4, 0]),:]*ops['avg_dz_10000m'].dst_grid.cell_area[3, 4]\n",
    "r12=(r1+r2).toarray().reshape(grid_dz.shape)[:,:,0]\n",
    "fig=plt.figure(); \n",
    "hax=fig.subplots(1, 3)\n",
    "hax[0].imshow((r1).toarray().reshape(grid_dz.shape)[:,:,0])\n",
    "hax[0].set_title('cell 3,3')\n",
    "hax[1].imshow((r2).toarray().reshape(grid_dz.shape)[:,:,0])\n",
    "hax[1].set_title('cell 3,4')\n",
    "hax[2].imshow((r1+r2).toarray().reshape(grid_dz.shape)[:,:,0])\n",
    "hax[2].set_title('cell 3,3+cell 3,4')\n"
   ]
  },
  {
   "cell_type": "markdown",
   "metadata": {},
   "source": [
    "Adding up the rows for all the output cells (multiplied by the output cell areas) gives the input cell area."
   ]
  },
  {
   "cell_type": "markdown",
   "metadata": {},
   "source": []
  },
  {
   "cell_type": "code",
   "execution_count": null,
   "metadata": {},
   "outputs": [],
   "source": [
    "rtot=np.zeros_like(mtx_10km[op_row(grid_10km, [3, 3, 0]),:])\n",
    "for row in range(6):\n",
    "    for col in range(6):\n",
    "        rtot += mtx_10km[op_row(grid_10km, [row, col, 0]),:]*ops['avg_dz_10000m'].dst_grid.cell_area[row, col]\n",
    "\n",
    "fig=plt.figure(); \n",
    "hax=fig.subplots(1,2)\n",
    "hmap=hax[0].imshow(rtot.toarray().reshape(grid_dz.shape)[:,:,0]);\n",
    "hax[0].set_title('recovered cell area')\n",
    "plt.colorbar(ax=hax[0], mappable=hmap)\n",
    "hmap=hax[1].imshow(rtot.toarray().reshape(grid_dz.shape)[:,:,0]-cell_area_1km);\n",
    "hax[1].set_title('recovered cell area \\n- grid_10km cell area')\n",
    "\n",
    "plt.colorbar(ax=hax[1], mappable=hmap)\n"
   ]
  },
  {
   "cell_type": "code",
   "execution_count": null,
   "metadata": {},
   "outputs": [],
   "source": [
    "dir(hax[0])"
   ]
  },
  {
   "cell_type": "code",
   "execution_count": null,
   "metadata": {},
   "outputs": [],
   "source": []
  }
 ],
 "metadata": {
  "kernelspec": {
   "display_name": "IS2",
   "language": "python",
   "name": "is2"
  },
  "language_info": {
   "codemirror_mode": {
    "name": "ipython",
    "version": 3
   },
   "file_extension": ".py",
   "mimetype": "text/x-python",
   "name": "python",
   "nbconvert_exporter": "python",
   "pygments_lexer": "ipython3",
   "version": "3.7.8"
  }
 },
 "nbformat": 4,
 "nbformat_minor": 4
}
