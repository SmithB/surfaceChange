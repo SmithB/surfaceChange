{
 "cells": [
  {
   "cell_type": "code",
   "execution_count": null,
   "metadata": {},
   "outputs": [],
   "source": [
    "import matplotlib.pyplot as plt\n",
    "import numpy as np\n",
    "import pointCollection as pc\n"
   ]
  },
  {
   "cell_type": "code",
   "execution_count": null,
   "metadata": {},
   "outputs": [],
   "source": [
    "%matplotlib notebook\n"
   ]
  },
  {
   "cell_type": "code",
   "execution_count": null,
   "metadata": {},
   "outputs": [],
   "source": [
    "thefile='/home/ben/git_repos/surfaceChange/ATL15.h5'\n",
    "thefile='/Volumes/ice2/ben/ATL14_test/001/ATL15.h5'\n",
    "V0={}\n",
    "dV0={}\n",
    "A0={}\n",
    "for group in ['', '_10km','_20km', '_40km']:   \n",
    "    D15=pc.grid.data().from_h5(thefile, group='height_change'+group)\n",
    "    field='cell_area'+group\n",
    "    A=getattr(D15, field)\n",
    "    dh=getattr(D15, 'delta_h'+group)\n",
    "    dhdt=getattr(D15, 'dhdt_lag1'+group)\n",
    "    A[A>1.e16]=np.NaN\n",
    "    A0[group]=np.nansum(A)\n",
    "    V0[group] = np.array([np.nansum(A*dh[:,:,ii]) for ii in range(dh.shape[2])])\n",
    "    dV0[group] = np.array([np.nansum(A*dhdt[:,:,ii]) for ii in range(dhdt.shape[2])])\n"
   ]
  },
  {
   "cell_type": "code",
   "execution_count": null,
   "metadata": {},
   "outputs": [],
   "source": [
    "Acell = {'':1.e3**2, '_10km':1.e4**2, '_20km':2.e4**2, '_40km':4.e4**2}\n",
    "\n",
    "{key:(A0[key]-A0[''])/Acell[key] for key in A0}"
   ]
  },
  {
   "cell_type": "code",
   "execution_count": null,
   "metadata": {},
   "outputs": [],
   "source": [
    "dhdt.shape"
   ]
  },
  {
   "cell_type": "code",
   "execution_count": null,
   "metadata": {},
   "outputs": [],
   "source": [
    "{key:V0[key]-V0[''] for key in V0}"
   ]
  },
  {
   "cell_type": "code",
   "execution_count": null,
   "metadata": {},
   "outputs": [],
   "source": [
    "{key:dV0[key]-dV0[''] for key in V0}"
   ]
  },
  {
   "cell_type": "code",
   "execution_count": null,
   "metadata": {},
   "outputs": [],
   "source": [
    "plt.figure(); \n",
    "plt.plot(dV0['']/np.nansum(A0['']))\n",
    "plt.plot(dV0['_10km']/np.nansum(A0['_10km']))\n",
    "plt.plot(dV0['_20km']/np.nansum(A0['_20km']))\n",
    "plt.plot(dV0['_40km']/np.nansum(A0['_40km']))\n",
    "plt.legend(['1km', '10km', '20km', '40km'])"
   ]
  },
  {
   "cell_type": "code",
   "execution_count": null,
   "metadata": {},
   "outputs": [],
   "source": [
    "hfig=plt.figure();\n",
    "hax=hfig.subplots(1, 4, sharex=True, sharey=True)\n",
    "for ii, av in enumerate(A0.keys()):\n",
    "    D15=pc.grid.data().from_h5(thefile, group='height_change'+av)\n",
    "    temp=getattr(D15, 'cell_area'+av)\n",
    "    temp[temp>1.e15]=np.NaN\n",
    "    hax[ii].imshow(getattr(D15, 'cell_area'+av), extent=D15.extent, origin='lower')"
   ]
  },
  {
   "cell_type": "code",
   "execution_count": null,
   "metadata": {},
   "outputs": [],
   "source": [
    "D15=pc.grid.data().from_h5(thefile, group='height_change'+group)\n",
    "D15"
   ]
  },
  {
   "cell_type": "code",
   "execution_count": null,
   "metadata": {},
   "outputs": [],
   "source": [
    "av"
   ]
  },
  {
   "cell_type": "code",
   "execution_count": null,
   "metadata": {},
   "outputs": [],
   "source": [
    "! h5ls /home/ben/git_repos/surfaceChange/ATL15.h5/height_change_10km"
   ]
  },
  {
   "cell_type": "code",
   "execution_count": null,
   "metadata": {},
   "outputs": [],
   "source": []
  }
 ],
 "metadata": {
  "kernelspec": {
   "display_name": "Python 3",
   "language": "python",
   "name": "python3"
  },
  "language_info": {
   "codemirror_mode": {
    "name": "ipython",
    "version": 3
   },
   "file_extension": ".py",
   "mimetype": "text/x-python",
   "name": "python",
   "nbconvert_exporter": "python",
   "pygments_lexer": "ipython3",
   "version": "3.8.5"
  }
 },
 "nbformat": 4,
 "nbformat_minor": 4
}
