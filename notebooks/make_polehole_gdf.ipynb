{
 "cells": [
  {
   "cell_type": "code",
   "execution_count": null,
   "metadata": {},
   "outputs": [],
   "source": [
    "from shapely.geometry import Polygon\n",
    "from geopandas import GeoDataFrame\n",
    "import numpy as np\n",
    "from pyproj import Transformer\n",
    "\n",
    "lon=np.arange(-180, 180, 2)\n",
    "lat=np.zeros_like(lon)+-88.\n",
    "\n",
    "transformer = Transformer.from_crs(\"epsg:4326\", \"epsg:3031\")\n",
    "x_ph, y_ph = transformer.transform(lat, lon)\n",
    "\n",
    "circle=Polygon(zip(x_ph, y_ph))\n",
    "circle.buffer(-200)\n",
    "\n",
    "gdf=GeoDataFrame({'geometry':[circle]})\n",
    "gdf.set_crs('EPSG:3031')\n",
    "\n",
    "gdf.to_file('/home/ben/git_repos/surfaceChange/masks/updates/S_polehole.geojson', driver='GeoJSON')\n",
    "\n",
    "\n"
   ]
  },
  {
   "cell_type": "markdown",
   "metadata": {},
   "source": [
    "N.B.  After doing this, I still had to do this:\n",
    "\n",
    "ogr2ogr -a_srs EPSG:3031 S_polehole_3031.geojson S_polehole.geojson\n",
    "\n",
    "... then\n",
    "\n",
    "gdal_rasterize -burn 0 S_polehole_3031.geojson bedmap2_thickness_gt_50_plus_sio_shelves_edited.tif\n",
    "\n",
    "\n",
    "... Then, to see what tiles these masks hit:\n",
    "gdal_rasterize -te -3040000 -3040000 3000000 3000000 -tr 80000 80000 -tap -init 0 -burn 1 -at 20210325_PIG_front.geojson 80km_update.tif\n",
    "\n",
    "gdal_rasterize -burn 1 -at S_polehole_3031.geojson  80km_update.tif\n"
   ]
  },
  {
   "cell_type": "code",
   "execution_count": null,
   "metadata": {},
   "outputs": [],
   "source": [
    "import pointCollection as pc\n",
    "import matplotlib.pyplot as plt\n",
    "import numpy as np\n",
    "\n",
    "mask_80=pc.grid.data().from_geotif('/home/ben/git_repos/surfaceChange/masks/Antarctic/updates/80km_update.tif')\n",
    "plt.figure()\n",
    "mask_80.show()\n"
   ]
  },
  {
   "cell_type": "code",
   "execution_count": null,
   "metadata": {},
   "outputs": [],
   "source": [
    "D_80=mask_80.as_points()\n",
    "D_80=D_80[D_80.z==1]\n",
    "np.c_[D_80.x, D_80.y]"
   ]
  },
  {
   "cell_type": "code",
   "execution_count": null,
   "metadata": {},
   "outputs": [],
   "source": [
    "for xy in zip(D_80.x/1000, D_80.y/1000):\n",
    "    print('E%d_N%d.h5'% xy)"
   ]
  },
  {
   "cell_type": "code",
   "execution_count": null,
   "metadata": {},
   "outputs": [],
   "source": []
  }
 ],
 "metadata": {
  "kernelspec": {
   "display_name": "Python 3",
   "language": "python",
   "name": "python3"
  },
  "language_info": {
   "codemirror_mode": {
    "name": "ipython",
    "version": 3
   },
   "file_extension": ".py",
   "mimetype": "text/x-python",
   "name": "python",
   "nbconvert_exporter": "python",
   "pygments_lexer": "ipython3",
   "version": "3.8.6"
  }
 },
 "nbformat": 4,
 "nbformat_minor": 4
}
