{
 "cells": [
  {
   "cell_type": "code",
   "execution_count": null,
   "metadata": {},
   "outputs": [],
   "source": [
    "from shapely.geometry import Polygon\n",
    "from geopandas import GeoDataFrame\n",
    "import numpy as np\n",
    "from pyproj import Transformer\n",
    "\n",
    "lon=np.arange(-180, 180, 2)\n",
    "lat=np.zeros_like(lon)+-88.\n",
    "\n",
    "transformer = Transformer.from_crs(\"epsg:4326\", \"epsg:3031\")\n",
    "x_ph, y_ph = transformer.transform(lat, lon)\n",
    "\n",
    "circle=Polygon(zip(x_ph, y_ph))\n",
    "circle.buffer(-200)\n",
    "\n",
    "gdf=GeoDataFrame({'geometry':[circle]})\n",
    "gdf.set_crs('EPSG:3031')\n",
    "\n",
    "gdf.to_file('/home/ben/git_repos/surfaceChange/masks/updates/S_polehole.geojson', driver='GeoJSON')\n",
    "\n",
    "\n"
   ]
  },
  {
   "cell_type": "markdown",
   "metadata": {},
   "source": [
    "N.B.  After doing this, I still had to do this:\n",
    "\n",
    "ogr2ogr -a_srs EPSG:3031 S_polehole_3031.geojson S_polehole.geojson\n",
    "\n",
    "... then\n",
    "\n",
    "gdal_rasterize -burn 0 S_polehole_3031.geojson bedmap2_thickness_gt_50_plus_sio_shelves_edited.tif"
   ]
  }
 ],
 "metadata": {
  "kernelspec": {
   "display_name": "Python 3",
   "language": "python",
   "name": "python3"
  },
  "language_info": {
   "codemirror_mode": {
    "name": "ipython",
    "version": 3
   },
   "file_extension": ".py",
   "mimetype": "text/x-python",
   "name": "python",
   "nbconvert_exporter": "python",
   "pygments_lexer": "ipython3",
   "version": "3.8.6"
  }
 },
 "nbformat": 4,
 "nbformat_minor": 4
}
