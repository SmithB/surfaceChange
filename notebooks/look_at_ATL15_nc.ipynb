{
 "cells": [
  {
   "cell_type": "code",
   "execution_count": null,
   "metadata": {},
   "outputs": [],
   "source": [
    "import matplotlib.pyplot as plt\n",
    "import numpy as np\n",
    "import re\n",
    "import glob\n",
    "#%matplotlib widget\n",
    "import xarray as xr\n",
    "import datetime"
   ]
  },
  {
   "cell_type": "code",
   "execution_count": null,
   "metadata": {},
   "outputs": [],
   "source": [
    "%matplotlib widget"
   ]
  },
  {
   "cell_type": "code",
   "execution_count": null,
   "metadata": {},
   "outputs": [],
   "source": [
    "import pointCollection as pc"
   ]
  },
  {
   "cell_type": "code",
   "execution_count": null,
   "metadata": {},
   "outputs": [],
   "source": [
    "# ATL15 stores time in a format that is not at all confusing.  \n",
    "def to_decimal_years(t):\n",
    "    t0=datetime.datetime.fromisoformat('2018-01-01T00:00:00.000000')\n",
    "    return (t-np.datetime64(t0)).astype(float)/24./3600./365.25/1.e9 + 2018\n",
    "def from_decimal_years(y):\n",
    "    t0=datetime.datetime.fromisoformat('2018-01-01T00:00:00.000000')\n",
    "    return np.datetime64(t0)+np.int(y*24*3600*365.25*1.e9)"
   ]
  },
  {
   "cell_type": "code",
   "execution_count": null,
   "metadata": {},
   "outputs": [],
   "source": [
    "grounded_mask=pc.grid.data().from_geotif('../masks/Antarctic/scripps_antarctica_IceShelves1km_v1.tif')\n",
    "grounded_mask.z=(grounded_mask.z==0).astype(float)"
   ]
  },
  {
   "cell_type": "code",
   "execution_count": null,
   "metadata": {},
   "outputs": [],
   "source": [
    "MOA=pc.grid.data().from_geotif('/Users/ben/data/MOA/2009/moa_2009_1km.tif')"
   ]
  },
  {
   "cell_type": "code",
   "execution_count": null,
   "metadata": {},
   "outputs": [],
   "source": [
    "nc_file='/users/ben/Downloads/ATL15_AA_0310_01km_001_01.nc'"
   ]
  },
  {
   "cell_type": "code",
   "execution_count": null,
   "metadata": {},
   "outputs": [],
   "source": [
    "# read the data, and turn it into a pc.data() instance\n",
    "with xr.open_dataset(nc_file,group='/delta_h') as fh:\n",
    "    dh=pc.grid.data().from_dict({'x':np.array(fh['x']),'y':np.array(fh['y']),\n",
    "                             'dz':np.array(fh['delta_h']), \n",
    "                             'sigma_dz':np.array(fh['delta_h_sigma']),\n",
    "                             't':to_decimal_years(fh['time']), \n",
    "                            'cell_area':np.array(fh['cell_area'])})\n",
    "    print(fh)"
   ]
  },
  {
   "cell_type": "code",
   "execution_count": null,
   "metadata": {},
   "outputs": [],
   "source": [
    "dh.assign({'grounded':grounded_mask.interp(dh.x, dh.y, gridded=True)})"
   ]
  },
  {
   "cell_type": "code",
   "execution_count": null,
   "metadata": {},
   "outputs": [],
   "source": [
    "with xr.open_dataset(nc_file,group='/dhdt_lag8') as fh:\n",
    "    dhdt=pc.grid.data().from_dict({'x':np.array(fh['x']),'y':np.array(fh['y']),\n",
    "                             'dhdt':np.array(fh['dhdt']), \n",
    "                             'sigma_dhdt':np.array(fh['dhdt_sigma']),\n",
    "                             't':to_decimal_years(fh['time'])})\n",
    "dhdt_sigma=pc.grid.data().from_dict({'x':dh.x,'y':dh.y,'z':np.std(np.diff(dh.dz[2:, :, :], axis=2), axis=2)*4})"
   ]
  },
  {
   "cell_type": "code",
   "execution_count": null,
   "metadata": {},
   "outputs": [],
   "source": [
    "plt.figure();\n",
    "MOA.show(cmap='gray', clim=[14000, 17000])\n",
    "plt.imshow(dhdt.sigma_dhdt[1,:,:], alpha=0.6, clim=[0, 0.1], extent=dhdt.extent, origin='lower', interpolation='nearest')"
   ]
  },
  {
   "cell_type": "code",
   "execution_count": null,
   "metadata": {},
   "outputs": [],
   "source": [
    "plt.figure()\n",
    "MOA.show(cmap='gray', clim=[14000, 17000])\n",
    "\n",
    "plt.imshow(dhdt.dhdt[1,:,:], alpha=0.5, clim=[-0.5, 0.5], extent=dhdt.extent, origin='lower', interpolation='nearest', cmap='Spectral')"
   ]
  },
  {
   "cell_type": "code",
   "execution_count": null,
   "metadata": {},
   "outputs": [],
   "source": [
    "xg, yg=np.meshgrid(dh.x, dh.y)\n",
    "lat_mask=np.abs(xg+1j*yg)>(2*np.pi/180*6370e3)"
   ]
  },
  {
   "cell_type": "code",
   "execution_count": null,
   "metadata": {},
   "outputs": [],
   "source": [
    "V=np.zeros(dh.dz.shape[0])\n",
    "for ii in range(dh.dz.shape[0]):\n",
    "    V[ii]=np.nansum(dh.dz[ii,:,:]*dh.cell_area*lat_mask*dh.grounded)"
   ]
  },
  {
   "cell_type": "code",
   "execution_count": null,
   "metadata": {},
   "outputs": [],
   "source": [
    "plt.figure();\n",
    "plt.plot(dh.t, V/1.e9)"
   ]
  },
  {
   "cell_type": "code",
   "execution_count": null,
   "metadata": {},
   "outputs": [],
   "source": []
  },
  {
   "cell_type": "code",
   "execution_count": null,
   "metadata": {},
   "outputs": [],
   "source": [
    "from scipy.interpolate import interpn\n",
    "\n",
    "class dz_picker(object):\n",
    "    def __init__(self, handles=None, field='dh', file_dict=None, dz_dict=None, file_args=None, W=2.e3, map_data=None, **map_args):\n",
    "\n",
    "        self.dz_dict=dz_dict\n",
    "        self.messages=[[]]\n",
    "        self.last_pt=[[]]\n",
    "        self.field=field\n",
    "        \n",
    "        if handles is not None and len(handles):\n",
    "            self.handles=handles\n",
    "        else:\n",
    "            self.handles={}\n",
    "            self.__init_new_ui__(map_data, map_args)\n",
    "        \n",
    "        self.file_dict=file_dict\n",
    "        if file_args is None:\n",
    "            self.file_args={}\n",
    "        else:\n",
    "            self.file_args=file_args\n",
    "        self.dz_dict=dz_dict\n",
    "        self.W=W\n",
    "        self.last_data={}\n",
    "        self.cid = self.handles['figure'].canvas.mpl_connect('button_press_event', self)\n",
    "        \n",
    "    def __init_new_ui__(self, map_data, map_args):\n",
    "        if 'figure' not in self.handles:\n",
    "            self.handles['figure']=plt.figure()\n",
    "        if 'map_ax' not in self.handles:\n",
    "            self.handles['map_ax'], self.handles['plot_ax']=\\\n",
    "            self.handles['figure'].subplots(1,2)\n",
    "        if map_data is not None:\n",
    "            map_data.show(ax=self.handles['map_ax'], **map_args)\n",
    "\n",
    "            \n",
    "    def __interp__(self, dz_dict, xy0):\n",
    "        out={key:{} for key in dz_dict}\n",
    "        for key, dz0 in dz_dict.items():\n",
    "            dz=getattr(dz0, self.field)\n",
    "            sigma_dz=None\n",
    "            try:\n",
    "                sigma_dz=getattr(dz0, 'sigma_'+field)\n",
    "            except Exception:\n",
    "                pass\n",
    "            tt=dz0.t\n",
    "            out[key]['t']=tt\n",
    "            if dz0.shape==(dz0.y.size, dz0.x.size, dz0.t.size):\n",
    "                self.messages += ['y, x, t']\n",
    "                coords_out=(xy0[1]*np.ones_like(tt), xy0[0]*np.ones_like(tt), tt)\n",
    "                coords_in=(dz0.y, dz0.x, dz0.t)\n",
    "            else:\n",
    "                self.messages += ['t, y, x']\n",
    "                coords_out=(tt, xy0[1]*np.ones_like(tt), xy0[0]*np.ones_like(tt))\n",
    "                coords_in=(dz0.t, dz0.y, dz0.x)\n",
    "            out[key]['z']=interpn(coords_in, dz, coords_out)\n",
    "\n",
    "            if 'sigma_'+self.field in dz0.fields:\n",
    "                out[key]['sigma_z']=interpn(coords_in, getattr(dz0, 'sigma_'+self.field), coords_out)\n",
    "            \n",
    "        self.this_zi=out\n",
    "\n",
    "    def __call__(self, event):\n",
    "        try:\n",
    "            if not event.inaxes in [self.handles['map_ax']]:\n",
    "                self.messages += ['dz_picker: last point not in tiles axis']\n",
    "            xy0=(event.xdata, event.ydata)\n",
    "            self.last_pt += [xy0]\n",
    "            tx = 'xy =[%f,%f]' % xy0\n",
    "            self.handles['plot_ax'].set_title(tx)\n",
    "            if self.dz_dict is not None:\n",
    "                dz_dict=self.dz_dict\n",
    "            elif self.file_dict is not None:\n",
    "                dz_dict={}\n",
    "                for key, file in self.file_dict.items():\n",
    "                    pad=np.array([-0.5, 0.5])*self.W\n",
    "                    dz_dict[key]=pc.grid.data().from_h5(file, bounds=[xy0[0]+pad, xy0[1]+pad], **self.file_args)\n",
    "            self.__interp__(dz_dict, [event.xdata, event.ydata])\n",
    "            for key, dzi in self.this_zi.items():\n",
    "                self.messages+=['before line']\n",
    "                self.messages += [key]\n",
    "                h_line=self.handles['plot_ax'].plot(dzi['t'], dzi['z'], label=tx+' '+str(key))             \n",
    "                if 'sigma_dz' in dzi:\n",
    "                    color=h_line[0].get_color()\n",
    "                    self.messages+=['before sigma']\n",
    "                    for sign in [-1, 1]:\n",
    "                        self.handles['plot_ax'].plot(dzi['t'], dzi['z']+sign*dzi['sigma_z'],'--', color=color)                   \n",
    "            y_vals=np.r_[[item._y.ravel() for item in self.handles['plot_ax'].lines]].ravel()\n",
    "            self.handles['plot_ax'].set_ylim([np.nanmin(y_vals), np.nanmax(y_vals)])\n",
    "        except Exception as e:\n",
    "            self.messages += [e]\n",
    "            plt.gca().set_title('ERROR (see \"messages\" )')\n",
    "        self.handles['plot_ax'].figure.canvas.draw()\n",
    "    \n",
    "    def clear_lines(self):\n",
    "        lines=list(self.handles['plot_ax'].lines)\n",
    "        for line_no in range(len(list(self.handles['plot_ax'].lines))):\n",
    "            self.handles['plot_ax'].lines.pop(0)\n",
    "        self.handles['plot_ax'].figure.canvas.draw()"
   ]
  },
  {
   "cell_type": "code",
   "execution_count": null,
   "metadata": {},
   "outputs": [],
   "source": [
    "dzp=dz_picker(dz_dict={'dz':dh}, field='dz', map_data=dhdt_sigma, cmap='magma', clim=[0, 1])\n",
    "dzp.handles['map_ax'].set_facecolor('gray')\n"
   ]
  },
  {
   "cell_type": "code",
   "execution_count": null,
   "metadata": {},
   "outputs": [],
   "source": [
    "dzp.this_zi['dz']['z']\n",
    "dzp.messages"
   ]
  },
  {
   "cell_type": "code",
   "execution_count": null,
   "metadata": {},
   "outputs": [],
   "source": [
    "dzp.clear_lines()"
   ]
  },
  {
   "cell_type": "code",
   "execution_count": null,
   "metadata": {},
   "outputs": [],
   "source": [
    "coords_out=(dh.t, np.zeros_like(dh.t)+dzp.last_pt[-1][1], np.zeros_like(dh.t)+dzp.last_pt[-1][0])\n",
    "coords_in=(dh.t, dh.y, dh.x)\n",
    "interpn(coords_in, np.array(dh.dz), coords_out)"
   ]
  }
 ],
 "metadata": {
  "kernelspec": {
   "display_name": "Python 3",
   "language": "python",
   "name": "python3"
  },
  "language_info": {
   "codemirror_mode": {
    "name": "ipython",
    "version": 3
   },
   "file_extension": ".py",
   "mimetype": "text/x-python",
   "name": "python",
   "nbconvert_exporter": "python",
   "pygments_lexer": "ipython3",
   "version": "3.8.6"
  }
 },
 "nbformat": 4,
 "nbformat_minor": 4
}
