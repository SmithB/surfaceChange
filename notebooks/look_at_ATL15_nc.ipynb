{
 "cells": [
  {
   "cell_type": "code",
   "execution_count": 7,
   "metadata": {},
   "outputs": [],
   "source": [
    "import matplotlib.pyplot as plt\n",
    "import numpy as np\n",
    "import re\n",
    "import glob\n",
    "#%matplotlib widget\n",
    "import xarray as xr"
   ]
  },
  {
   "cell_type": "code",
   "execution_count": 8,
   "metadata": {},
   "outputs": [],
   "source": [
    "%matplotlib widget"
   ]
  },
  {
   "cell_type": "code",
   "execution_count": 9,
   "metadata": {},
   "outputs": [],
   "source": [
    "import pointCollection as pc"
   ]
  },
  {
   "cell_type": "code",
   "execution_count": 10,
   "metadata": {},
   "outputs": [],
   "source": [
    "from netCDF4 import Dataset"
   ]
  },
  {
   "cell_type": "code",
   "execution_count": 11,
   "metadata": {},
   "outputs": [],
   "source": [
    "%matplotlib widget"
   ]
  },
  {
   "cell_type": "code",
   "execution_count": 12,
   "metadata": {},
   "outputs": [],
   "source": [
    "nc_file='/att/nobackup/project/icesat-2/ATL14_processing/rel001/south/AA/ATL15_AA_0310_01km_001_01.nc'"
   ]
  },
  {
   "cell_type": "code",
   "execution_count": 13,
   "metadata": {},
   "outputs": [
    {
     "name": "stderr",
     "output_type": "stream",
     "text": [
      "/home/besmith4/.conda/envs/IS2/lib/python3.7/site-packages/xarray/core/nanops.py:142: RuntimeWarning: Mean of empty slice\n",
      "  return np.nanmean(a, axis=axis, dtype=dtype)\n",
      "/home/besmith4/.conda/envs/IS2/lib/python3.7/site-packages/numpy/lib/nanfunctions.py:1665: RuntimeWarning: Degrees of freedom <= 0 for slice.\n",
      "  keepdims=keepdims)\n"
     ]
    }
   ],
   "source": [
    "with xr.open_dataset(nc_file,group='/dhdt_lag1') as fh:\n",
    "    dzdt_bar=pc.grid.data().from_dict({'x':np.array(fh['x']),'y':np.array(fh['y']),'time':np.array(fh['time']),'z':np.mean(fh['dhdt'][2:,:,:], axis=0)})\n",
    "    sigma_dzdt=pc.grid.data().from_dict({'x':np.array(fh['x']),'y':np.array(fh['y']),'time':np.array(fh['time']),'z':np.std(fh['dhdt'][2:,:,:], axis=0)})"
   ]
  },
  {
   "cell_type": "code",
   "execution_count": null,
   "metadata": {},
   "outputs": [],
   "source": [
    "plt.figure(); \n",
    "sigma_dzdt.show(clim=[0, 2], cmap='magma', interpolation='nearest')\n",
    "plt.colorbar(shrink=0.25, orientation='horizontal', pad=0.02,  label='$\\sigma_{dh/dt}$, $m\\ yr^{-1}$')\n",
    "plt.gca().set_facecolor('gray')\n"
   ]
  },
  {
   "cell_type": "code",
   "execution_count": 16,
   "metadata": {},
   "outputs": [],
   "source": [
    "#fh= xr.open_dataset(nc_file,group='/delta_h')\n",
    "dh=pc.grid.data().from_dict({'x':np.array(fh['x']),'y':np.array(fh['y']),'z':fh['delta_h'],'time', fh['time'])})"
   ]
  },
  {
   "cell_type": "code",
   "execution_count": 18,
   "metadata": {},
   "outputs": [
    {
     "data": {
      "text/plain": [
       "array(['2018-10-01T22:30:00.000000000', '2019-01-01T06:00:00.000000000',\n",
       "       '2019-04-02T13:30:00.000000000', '2019-07-02T21:00:00.000000000',\n",
       "       '2019-10-02T04:30:00.000000000', '2020-01-01T12:00:00.000000000',\n",
       "       '2020-04-01T19:30:00.000000000', '2020-07-02T03:00:00.000000000',\n",
       "       '2020-10-01T10:30:00.000000000', '2020-12-31T18:00:00.000000000'],\n",
       "      dtype='datetime64[ns]')"
      ]
     },
     "execution_count": 18,
     "metadata": {},
     "output_type": "execute_result"
    }
   ],
   "source": [
    "np.array(fh['time'])"
   ]
  },
  {
   "cell_type": "code",
   "execution_count": 17,
   "metadata": {},
   "outputs": [
    {
     "data": {
      "text/plain": [
       "['T',\n",
       " '_HANDLED_TYPES',\n",
       " '__abs__',\n",
       " '__add__',\n",
       " '__and__',\n",
       " '__annotations__',\n",
       " '__array__',\n",
       " '__array_priority__',\n",
       " '__array_ufunc__',\n",
       " '__array_wrap__',\n",
       " '__bool__',\n",
       " '__class__',\n",
       " '__complex__',\n",
       " '__contains__',\n",
       " '__copy__',\n",
       " '__dask_graph__',\n",
       " '__dask_keys__',\n",
       " '__dask_layers__',\n",
       " '__dask_optimize__',\n",
       " '__dask_postcompute__',\n",
       " '__dask_postpersist__',\n",
       " '__dask_scheduler__',\n",
       " '__dask_tokenize__',\n",
       " '__deepcopy__',\n",
       " '__delattr__',\n",
       " '__delitem__',\n",
       " '__dir__',\n",
       " '__div__',\n",
       " '__doc__',\n",
       " '__enter__',\n",
       " '__eq__',\n",
       " '__exit__',\n",
       " '__float__',\n",
       " '__floordiv__',\n",
       " '__format__',\n",
       " '__ge__',\n",
       " '__getattr__',\n",
       " '__getattribute__',\n",
       " '__getitem__',\n",
       " '__gt__',\n",
       " '__hash__',\n",
       " '__iadd__',\n",
       " '__iand__',\n",
       " '__ifloordiv__',\n",
       " '__imod__',\n",
       " '__imul__',\n",
       " '__init__',\n",
       " '__init_subclass__',\n",
       " '__int__',\n",
       " '__invert__',\n",
       " '__ior__',\n",
       " '__ipow__',\n",
       " '__isub__',\n",
       " '__iter__',\n",
       " '__itruediv__',\n",
       " '__ixor__',\n",
       " '__le__',\n",
       " '__len__',\n",
       " '__lt__',\n",
       " '__matmul__',\n",
       " '__mod__',\n",
       " '__module__',\n",
       " '__mul__',\n",
       " '__ne__',\n",
       " '__neg__',\n",
       " '__new__',\n",
       " '__or__',\n",
       " '__pos__',\n",
       " '__pow__',\n",
       " '__radd__',\n",
       " '__rand__',\n",
       " '__reduce__',\n",
       " '__reduce_ex__',\n",
       " '__repr__',\n",
       " '__rfloordiv__',\n",
       " '__rmatmul__',\n",
       " '__rmod__',\n",
       " '__rmul__',\n",
       " '__ror__',\n",
       " '__rpow__',\n",
       " '__rsub__',\n",
       " '__rtruediv__',\n",
       " '__rxor__',\n",
       " '__setattr__',\n",
       " '__setitem__',\n",
       " '__sizeof__',\n",
       " '__slots__',\n",
       " '__str__',\n",
       " '__sub__',\n",
       " '__subclasshook__',\n",
       " '__truediv__',\n",
       " '__weakref__',\n",
       " '__xor__',\n",
       " '_all_compat',\n",
       " '_attr_sources',\n",
       " '_binary_op',\n",
       " '_cache',\n",
       " '_calc_assign_results',\n",
       " '_coarsen_cls',\n",
       " '_coords',\n",
       " '_copy_attrs_from',\n",
       " '_cum_extra_args_docstring',\n",
       " '_dask_finalize',\n",
       " '_file_obj',\n",
       " '_from_temp_dataset',\n",
       " '_get_axis_num',\n",
       " '_getitem_coord',\n",
       " '_groupby_cls',\n",
       " '_in_memory',\n",
       " '_indexes',\n",
       " '_inplace_binary_op',\n",
       " '_ipython_key_completions_',\n",
       " '_item_key_to_dict',\n",
       " '_item_sources',\n",
       " '_iter',\n",
       " '_level_coords',\n",
       " '_name',\n",
       " '_overwrite_indexes',\n",
       " '_reduce_extra_args_docstring',\n",
       " '_reduce_method',\n",
       " '_replace',\n",
       " '_replace_maybe_drop_dims',\n",
       " '_repr_html_',\n",
       " '_resample_cls',\n",
       " '_result_name',\n",
       " '_rolling_cls',\n",
       " '_rolling_exp_cls',\n",
       " '_setattr_dict',\n",
       " '_title_for_slice',\n",
       " '_to_dataset_split',\n",
       " '_to_dataset_whole',\n",
       " '_to_temp_dataset',\n",
       " '_unary_op',\n",
       " '_variable',\n",
       " '_weighted_cls',\n",
       " 'all',\n",
       " 'any',\n",
       " 'argmax',\n",
       " 'argmin',\n",
       " 'argsort',\n",
       " 'assign_attrs',\n",
       " 'assign_coords',\n",
       " 'astype',\n",
       " 'attrs',\n",
       " 'bfill',\n",
       " 'broadcast_equals',\n",
       " 'broadcast_like',\n",
       " 'chunk',\n",
       " 'chunks',\n",
       " 'clip',\n",
       " 'close',\n",
       " 'coarsen',\n",
       " 'combine_first',\n",
       " 'compute',\n",
       " 'conj',\n",
       " 'conjugate',\n",
       " 'coordinates',\n",
       " 'coords',\n",
       " 'copy',\n",
       " 'count',\n",
       " 'cumprod',\n",
       " 'cumsum',\n",
       " 'data',\n",
       " 'datatype',\n",
       " 'description',\n",
       " 'diff',\n",
       " 'differentiate',\n",
       " 'dimensions',\n",
       " 'dims',\n",
       " 'dot',\n",
       " 'drop',\n",
       " 'drop_sel',\n",
       " 'drop_vars',\n",
       " 'dropna',\n",
       " 'dt',\n",
       " 'dtype',\n",
       " 'encoding',\n",
       " 'equals',\n",
       " 'expand_dims',\n",
       " 'ffill',\n",
       " 'fillna',\n",
       " 'from_cdms2',\n",
       " 'from_dict',\n",
       " 'from_iris',\n",
       " 'from_series',\n",
       " 'get_axis_num',\n",
       " 'get_index',\n",
       " 'grid_mapping',\n",
       " 'groupby',\n",
       " 'groupby_bins',\n",
       " 'head',\n",
       " 'identical',\n",
       " 'idxmax',\n",
       " 'idxmin',\n",
       " 'imag',\n",
       " 'indexes',\n",
       " 'integrate',\n",
       " 'interp',\n",
       " 'interp_like',\n",
       " 'interpolate_na',\n",
       " 'isel',\n",
       " 'isin',\n",
       " 'isnull',\n",
       " 'item',\n",
       " 'load',\n",
       " 'loc',\n",
       " 'long_name',\n",
       " 'map_blocks',\n",
       " 'max',\n",
       " 'mean',\n",
       " 'median',\n",
       " 'min',\n",
       " 'name',\n",
       " 'nbytes',\n",
       " 'ndim',\n",
       " 'notnull',\n",
       " 'pad',\n",
       " 'persist',\n",
       " 'pipe',\n",
       " 'plot',\n",
       " 'polyfit',\n",
       " 'prod',\n",
       " 'quantile',\n",
       " 'rank',\n",
       " 'real',\n",
       " 'reduce',\n",
       " 'reindex',\n",
       " 'reindex_like',\n",
       " 'rename',\n",
       " 'reorder_levels',\n",
       " 'resample',\n",
       " 'reset_coords',\n",
       " 'reset_index',\n",
       " 'roll',\n",
       " 'rolling',\n",
       " 'rolling_exp',\n",
       " 'round',\n",
       " 'searchsorted',\n",
       " 'sel',\n",
       " 'set_index',\n",
       " 'shape',\n",
       " 'shift',\n",
       " 'size',\n",
       " 'sizes',\n",
       " 'sortby',\n",
       " 'source',\n",
       " 'squeeze',\n",
       " 'stack',\n",
       " 'std',\n",
       " 'str',\n",
       " 'sum',\n",
       " 'swap_dims',\n",
       " 'tail',\n",
       " 'thin',\n",
       " 'time',\n",
       " 'to_cdms2',\n",
       " 'to_dataframe',\n",
       " 'to_dataset',\n",
       " 'to_dict',\n",
       " 'to_index',\n",
       " 'to_iris',\n",
       " 'to_masked_array',\n",
       " 'to_netcdf',\n",
       " 'to_pandas',\n",
       " 'to_series',\n",
       " 'to_unstacked_dataset',\n",
       " 'transpose',\n",
       " 'unify_chunks',\n",
       " 'units',\n",
       " 'unstack',\n",
       " 'values',\n",
       " 'var',\n",
       " 'variable',\n",
       " 'weighted',\n",
       " 'where',\n",
       " 'x',\n",
       " 'y']"
      ]
     },
     "execution_count": 17,
     "metadata": {},
     "output_type": "execute_result"
    }
   ],
   "source": [
    "dir(fh['delta_h'])"
   ]
  },
  {
   "cell_type": "code",
   "execution_count": null,
   "metadata": {},
   "outputs": [],
   "source": [
    "plt.figure()\n",
    "plt.imshow(np.std(dhdt[2:-1], axis=0), extent=extent, origin='lower', clim=[0, 5], cmap='magma', interpolation='nearest')\n",
    "plt.gca().set_xticks([])\n",
    "plt.gca().set_yticks([])\n",
    "plt.colorbar(shrink=0.25, orientation='horizontal', pad=0.02,  label='$\\sigma_{dh/dt}$, $m\\ yr^{-1}$')\n",
    "plt.gca().set_facecolor('gray')\n",
    "\n"
   ]
  },
  {
   "cell_type": "code",
   "execution_count": null,
   "metadata": {},
   "outputs": [],
   "source": [
    "fig=plt.figure()\n",
    "plt.imshow(np.mean(dhdt[2:-1], axis=0), extent=extent, origin='lower', clim=[-3, 3], cmap='Spectral', interpolation='nearest')\n",
    "plt.gca().set_xticks([])\n",
    "plt.gca().set_yticks([])\n",
    "hb=plt.colorbar(shrink=0.25, orientation='horizontal', pad=0.02,  label='$dh/dt$, $m\\ yr^{-1}$')\n",
    "plt.gca().set_facecolor('gray')\n",
    "\n"
   ]
  },
  {
   "cell_type": "code",
   "execution_count": null,
   "metadata": {},
   "outputs": [],
   "source": [
    "area=np.array(dsx['cell_area'])\n",
    "dvdt=np.zeros(dhdt.shape[0])+np.NaN\n",
    "\n",
    "t=np.float64(dsx['time_lag1']-np.datetime64('2018-01-01'))/24/3600/365.25/1.e9+2018.0\n",
    "for ind in range(dhdt.shape[0]):\n",
    "    dvdt[ind]=np.nansum(area*dhdt[ind,:,:])\n",
    "plt.figure(); plt.plot(t, dvdt/1.e9,'.')\n",
    "for ii in range(len(dvdt)):\n",
    "    plt.plot(t[ii]+np.array([-1, 1])*0.125, (dvdt[ii]+np.zeros(2))/1.e9,'k')\n",
    "plt.gca().set_xticks([ 2019, 2019.5, 2020, 2020.5])\n",
    "plt.gca().set_xlabel('year')\n",
    "plt.gca().set_ylabel('volume rate, $km^3\\ yr^{-1}$')"
   ]
  },
  {
   "cell_type": "code",
   "execution_count": null,
   "metadata": {},
   "outputs": [],
   "source": [
    "np.mean(dvdt)/1.e9"
   ]
  },
  {
   "cell_type": "code",
   "execution_count": null,
   "metadata": {},
   "outputs": [],
   "source": []
  },
  {
   "cell_type": "markdown",
   "metadata": {},
   "source": [
    "## Map of dhdt"
   ]
  },
  {
   "cell_type": "code",
   "execution_count": null,
   "metadata": {},
   "outputs": [],
   "source": [
    "t_bin=3\n",
    "\"%2.2f\" % (dsx[\"time.year\"][t_bin]+(dsx[\"time.dayofyear\"][t_bin])/365)\n",
    "#f'dhdt, {dsx[\"time\"][t_bin].years()} to {dsx[\"time\"][t_bin+1]}'"
   ]
  },
  {
   "cell_type": "code",
   "execution_count": null,
   "metadata": {},
   "outputs": [],
   "source": [
    "plt.figure();\n",
    "\n",
    "t_bin=2\n",
    "plt.imshow(dhdt[t_bin,:,:], origin='lower', extent=extent, cmap='Spectral', clim=[-2, 2], interpolation='nearest')\n",
    "plt.colorbar(label=f'dhdt, %2.2f to %2.2f' % (dsx[\"time.year\"][t_bin]+(dsx[\"time.dayofyear\"][t_bin])/365,\n",
    "                                             dsx[\"time.year\"][t_bin+4]+(dsx[\"time.dayofyear\"][t_bin+4])/365))"
   ]
  },
  {
   "cell_type": "code",
   "execution_count": null,
   "metadata": {},
   "outputs": [],
   "source": [
    "plt.figure(); \n",
    "dhdt=np.array(xr.open_dataset(thefile, group='height_change')['dhdt_lag1'])\n",
    "\n",
    "plt.imshow(np.sqrt(np.mean(dhdt[2:-1,:,:]**2, axis=0)), origin='lower', extent=extent, clim=[0, 1])"
   ]
  },
  {
   "cell_type": "code",
   "execution_count": null,
   "metadata": {},
   "outputs": [],
   "source": [
    "map_ax=plt.gca()\n",
    "XY0=[np.round(np.array(map_ax.get_xlim()).mean()/4.e4)*40 , \n",
    "    np.round(np.array(map_ax.get_ylim()).mean()/4.e4)*40]\n",
    "print(XY0)\n",
    "thefile=glob.glob(f\"/home/besmith4/shared/ATL14_test/south/001/tiles/*/problems/E{int(XY0[0])}_N{int(XY0[1])}.h5\")[0]\n",
    "print(thefile)\n",
    "\n",
    "\n"
   ]
  },
  {
   "cell_type": "code",
   "execution_count": null,
   "metadata": {},
   "outputs": [],
   "source": [
    "dsx=xr.open_dataset(thefile, group='height_change')\n",
    "dh=np.array(dsx['delta_h'])\n",
    "xx=dsx['x']\n",
    "yy=dsx['y']\n",
    "tt=dsx['time']\n",
    "extent=[np.min(xx)+500, np.max(xx)+500, np.min(yy)+500, np.max(yy)+500]"
   ]
  },
  {
   "cell_type": "code",
   "execution_count": null,
   "metadata": {},
   "outputs": [],
   "source": [
    "tt=dsx['time.year']+dsx['time.dayofyear']/365"
   ]
  },
  {
   "cell_type": "code",
   "execution_count": null,
   "metadata": {},
   "outputs": [],
   "source": [
    "np.array(tt)"
   ]
  },
  {
   "cell_type": "code",
   "execution_count": null,
   "metadata": {},
   "outputs": [],
   "source": [
    "dh.shape"
   ]
  },
  {
   "cell_type": "code",
   "execution_count": null,
   "metadata": {},
   "outputs": [],
   "source": [
    "plt.figure(); \n",
    "plt.imshow(dh[8,:,:]-dh[4,:,:], extent=extent, cmap='Spectral', clim=[-2, 2], origin='lower')\n",
    "plt.colorbar(label='%2.2f to %2.2f' % (tt[4], tt[8]), shrink=0.5, extend='both')\n"
   ]
  },
  {
   "cell_type": "code",
   "execution_count": null,
   "metadata": {},
   "outputs": [],
   "source": [
    "plt.figure(); \n",
    "plt.imshow(dh[6,:,:]-dh[2,:,:], extent=extent, cmap='Spectral', clim=[-2, 2], origin='lower')\n",
    "plt.colorbar(label='%2.2f to %2.2f' % (tt[6], tt[2]), shrink=0.5, extend='both')\n"
   ]
  },
  {
   "cell_type": "code",
   "execution_count": null,
   "metadata": {},
   "outputs": [],
   "source": [
    "\n",
    "fig=plt.figure(figsize=[6, 7.5])\n",
    "hax=fig.subplots(3,2).ravel()\n",
    "for count, ii in enumerate(range(2, 8)):\n",
    "    hi=hax[count].imshow(dh[ii+1,:,:]-dh[ii,:,:], extent=extent, cmap='Spectral', clim=[-0.5, 0.5], origin='lower')\n",
    "    hax[count].set_title('%2.2f to %2.2f' % (tt[ii], tt[ii+1]), fontsize=10)\n",
    "    hax[count].set_xticks([])\n",
    "    hax[count].set_yticks([])\n",
    "#hax[count+1].remove()\n",
    "plt.colorbar(hi, ax=hax, label='quarterly $\\delta h$, m', orientation='horizontal', shrink=0.25,pad=0.025, extend='both')\n",
    "#plt.tight_layout()\n",
    "    "
   ]
  },
  {
   "cell_type": "code",
   "execution_count": null,
   "metadata": {},
   "outputs": [],
   "source": [
    "tt[-1]-tt[2]"
   ]
  },
  {
   "cell_type": "code",
   "execution_count": null,
   "metadata": {},
   "outputs": [],
   "source": []
  },
  {
   "cell_type": "code",
   "execution_count": null,
   "metadata": {},
   "outputs": [],
   "source": [
    "plt.figure(figsize=[6,7])\n",
    "plt.imshow((dh[-1,:,:]-dh[2,:,:])/float(tt[-1]-tt[2]), extent=extent, cmap='Spectral', clim=[-0.75, 0.75], origin='lower')\n",
    "plt.colorbar(label='dh/dt, 2019.25 to 2020.75, m/yr', pad=0.025, shrink=0.5, extend='both', orientation='horizontal')\n",
    "plt.gca().set_xticks([])\n",
    "plt.gca().set_yticks([])\n"
   ]
  },
  {
   "cell_type": "markdown",
   "metadata": {},
   "source": [
    "## Map of dhdt and tile centers"
   ]
  },
  {
   "cell_type": "code",
   "execution_count": null,
   "metadata": {},
   "outputs": [],
   "source": []
  },
  {
   "cell_type": "code",
   "execution_count": null,
   "metadata": {},
   "outputs": [],
   "source": [
    "plt.figure(); \n",
    "plt.imshow(dhdt[3,:,:], origin='lower', extent=extent, cmap='Spectral', clim=[-1, 1])\n",
    "syms={'centers':'s','edges':'^','corners':'x'}\n",
    "for key, temp in xy_tile.items():\n",
    "    xy=np.c_[list(temp.keys())]\n",
    "    plt.plot(xy[:,0]*1000, xy[:,1]*1000, marker=syms[key], linestyle='')"
   ]
  },
  {
   "cell_type": "code",
   "execution_count": null,
   "metadata": {},
   "outputs": [],
   "source": [
    "Dtiff=pc.grid.data().from_geotif('/home/besmith4/shared/ATL14_test/north/001/tiles/temp.tif')"
   ]
  },
  {
   "cell_type": "code",
   "execution_count": null,
   "metadata": {},
   "outputs": [],
   "source": [
    "plt.figure(); Dtiff.show(band=0)"
   ]
  },
  {
   "cell_type": "code",
   "execution_count": null,
   "metadata": {},
   "outputs": [],
   "source": [
    "plt.figure(); plt.plot(Dtiff.x, Dtiff.z[130,:, 0], label='tiff')\n",
    "plt.plot(xx, temp[0, 130,:], 'o', label='xarray')"
   ]
  },
  {
   "cell_type": "code",
   "execution_count": null,
   "metadata": {},
   "outputs": [],
   "source": [
    "temp.shape"
   ]
  },
  {
   "cell_type": "code",
   "execution_count": null,
   "metadata": {},
   "outputs": [],
   "source": [
    "! h5ls /home/besmith4/shared/ATL14_test/south/001/tiles/edges/E-960_N280.h5"
   ]
  },
  {
   "cell_type": "code",
   "execution_count": null,
   "metadata": {},
   "outputs": [],
   "source": [
    "dz0=pc.grid.data().from_h5('/home/besmith4/shared/ATL14_test/south/001/tiles/edges/E-960_N280.h5', group='dz')"
   ]
  },
  {
   "cell_type": "code",
   "execution_count": null,
   "metadata": {},
   "outputs": [],
   "source": [
    "dz1=pc.grid.data().from_h5('/home/besmith4/shared/ATL14_test/south/001/tiles/edges/problems/E-960_N280.h5', group='dz')"
   ]
  },
  {
   "cell_type": "code",
   "execution_count": null,
   "metadata": {},
   "outputs": [],
   "source": [
    "fig=plt.figure(); \n",
    "fig.add_subplot(122)\n",
    "plt.imshow(dz0.dz[:,:,4]-dz0.dz[:,:,0], extent=dz0.extent, origin='lower', clim=[-1, 1], cmap='Spectral')\n",
    "fig.add_subplot(121)\n",
    "plt.imshow(dz1.dz[:,:,4]-dz1.dz[:,:,0], extent=dz0.extent, origin='lower' , clim=[-1, 1], cmap='Spectral')\n"
   ]
  },
  {
   "cell_type": "code",
   "execution_count": null,
   "metadata": {},
   "outputs": [],
   "source": []
  }
 ],
 "metadata": {
  "kernelspec": {
   "display_name": "IS2",
   "language": "python",
   "name": "is2"
  },
  "language_info": {
   "codemirror_mode": {
    "name": "ipython",
    "version": 3
   },
   "file_extension": ".py",
   "mimetype": "text/x-python",
   "name": "python",
   "nbconvert_exporter": "python",
   "pygments_lexer": "ipython3",
   "version": "3.7.8"
  }
 },
 "nbformat": 4,
 "nbformat_minor": 4
}
