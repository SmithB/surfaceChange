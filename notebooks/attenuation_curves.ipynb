{
 "cells": [
  {
   "cell_type": "code",
   "execution_count": 1,
   "metadata": {},
   "outputs": [],
   "source": [
    "import sympy as sp\n",
    "import numpy as np"
   ]
  },
  {
   "cell_type": "code",
   "execution_count": 53,
   "metadata": {},
   "outputs": [],
   "source": [
    "# basis vectors in x, y, and t\n",
    "x=sp.Symbol('x')\n",
    "y=sp.Symbol('y')\n",
    "t=sp.Symbol('t')\n",
    "#model and data amplitudes\n",
    "Ad=sp.Symbol('A_d')\n",
    "Am=sp.Symbol('A_m')\n",
    "\n",
    "# domain width\n",
    "L=sp.Symbol('L', positive=True, finite=True)\n",
    "# domain time dinension\n",
    "T=sp.Symbol('T', positive=True, finite=True)\n",
    "\n",
    "# data errors:\n",
    "s=sp.Symbol('\\sigma_d')\n",
    "# data density:\n",
    "rd=sp.Symbol('rho', positive=True, finite=True)\n",
    "# wavenumbers in the x, y, and t dimensions\n",
    "kx=sp.Symbol('k_x', integer=True, positive=True)\n",
    "ky=sp.Symbol('k_y', integer=True, positive=True)\n",
    "kt=sp.Symbol('k_t', integer=True, positive=True)\n",
    "# Weighting on d3z/dx2dt\n",
    "Wxxt=sp.Symbol('W_{xxt}')\n",
    "# Weighting on d2x/dt2\n",
    "Wtt=sp.Symbol('W_{tt}')\n"
   ]
  },
  {
   "cell_type": "code",
   "execution_count": 54,
   "metadata": {},
   "outputs": [
    {
     "data": {
      "text/latex": [
       "$\\displaystyle \\lambda \\tau$"
      ],
      "text/plain": [
       "\\lambda*tau"
      ]
     },
     "execution_count": 54,
     "metadata": {},
     "output_type": "execute_result"
    }
   ],
   "source": [
    "tau=sp.Symbol('tau')\n",
    "lam=sp.Symbol('\\lambda')\n",
    "tau*lam"
   ]
  },
  {
   "cell_type": "code",
   "execution_count": 55,
   "metadata": {},
   "outputs": [],
   "source": [
    "# basis functions:\n",
    "bf =sp.sin(2*kx*sp.pi*x/L) * sp.sin(2*ky*sp.pi*y/L) * sp.sin(2*kt*sp.pi*t/T) \n",
    "# model is the basis function times Am\n",
    "m=Am * bf\n",
    "# data is basis function times Ad\n",
    "d=Ad * bf"
   ]
  },
  {
   "cell_type": "code",
   "execution_count": 56,
   "metadata": {},
   "outputs": [],
   "source": [
    "# derivatives of the basis functions\n",
    "D2xtm = sp.diff(sp.diff(sp.diff(m, x),x),t)\n",
    "D2ytm = sp.diff(sp.diff(sp.diff(m, y),y),t)\n",
    "Dxytm = sp.diff(sp.diff(sp.diff(m, x),y),t)\n",
    "D2tm = sp.diff(sp.diff(m, t),t)"
   ]
  },
  {
   "cell_type": "code",
   "execution_count": 57,
   "metadata": {},
   "outputs": [],
   "source": [
    "# Combined residual:\n",
    "R=sp.integrate(\\\n",
    "               sp.integrate(\\\n",
    "    sp.integrate( rd*((d-m)/s)**2 + (Wxxt*D2xtm)**2 + (Wxxt*D2ytm)**2 + 2*(Wxxt*Dxytm)**2+(Wtt*D2tm)**2, (x, 0, L)),\\\n",
    "    (y, 0, L)), \n",
    "               (t, 0, T))"
   ]
  },
  {
   "cell_type": "markdown",
   "metadata": {},
   "source": [
    "All of the terms inside the integral have units of $m^{-2} yr^{-1}$, so that R is unitless, so every quantity inside parenthesis has units of $m yr^{-1/2}$. \n",
    "- $A_d$ and $A_m$ have units of $m$.\n",
    "- $\\rho_d$ has units of $m^{-2} yr^{-1}$ (points per meter squared per year), so $\\rho_d(d-m)/\\sigma$ has units of $m^{-2} yr^{-1}$.\n",
    "- $\\partial^3 z / \\partial x^2 \\partial t$ has units of $m^{-1} yr^{-1}$  \n",
    "- $W_{xxt}$ has units of $yr^{1/2}$ \n",
    "- $\\partial^2 z /\\partial t^2$ has units of $m yr^{-2}$\n",
    "- $W_{tt}$ has units of $m^{-2} yr^{-3/2}$ \n",
    "- $k_x$, $k_y$, and $k_t$ are all unitless\n"
   ]
  },
  {
   "cell_type": "code",
   "execution_count": 76,
   "metadata": {},
   "outputs": [
    {
     "data": {
      "text/latex": [
       "$\\displaystyle \\frac{2 \\pi^{4} A_{m}^{2} L^{2} W_{tt}^{2} k_{t}^{4}}{T^{3}} + \\frac{8 \\pi^{6} A_{m}^{2} W_{xxt}^{2} k_{t}^{2} k_{x}^{4}}{L^{2} T} + \\frac{16 \\pi^{6} A_{m}^{2} W_{xxt}^{2} k_{t}^{2} k_{x}^{2} k_{y}^{2}}{L^{2} T} + \\frac{8 \\pi^{6} A_{m}^{2} W_{xxt}^{2} k_{t}^{2} k_{y}^{4}}{L^{2} T} + \\frac{\\rho \\left(\\frac{A_{d}^{2} L^{2} T}{8} - \\frac{A_{d} A_{m} L^{2} T}{4} + \\frac{A_{m}^{2} L^{2} T}{8}\\right)}{\\sigma_{d}^{2}}$"
      ],
      "text/plain": [
       "2*pi**4*A_m**2*L**2*W_{tt}**2*k_t**4/T**3 + 8*pi**6*A_m**2*W_{xxt}**2*k_t**2*k_x**4/(L**2*T) + 16*pi**6*A_m**2*W_{xxt}**2*k_t**2*k_x**2*k_y**2/(L**2*T) + 8*pi**6*A_m**2*W_{xxt}**2*k_t**2*k_y**4/(L**2*T) + rho*(A_d**2*L**2*T/8 - A_d*A_m*L**2*T/4 + A_m**2*L**2*T/8)/\\sigma_d**2"
      ]
     },
     "execution_count": 76,
     "metadata": {},
     "output_type": "execute_result"
    }
   ],
   "source": [
    "R"
   ]
  },
  {
   "cell_type": "code",
   "execution_count": 58,
   "metadata": {},
   "outputs": [
    {
     "data": {
      "text/latex": [
       "$\\displaystyle \\frac{A_{d} L^{4} T^{4} \\rho}{L^{4} T^{4} \\rho + 16 \\pi^{4} L^{4} W_{tt}^{2} \\sigma_{d}^{2} k_{t}^{4} + 64 \\pi^{6} T^{2} W_{xxt}^{2} \\sigma_{d}^{2} k_{t}^{2} k_{x}^{4} + 128 \\pi^{6} T^{2} W_{xxt}^{2} \\sigma_{d}^{2} k_{t}^{2} k_{x}^{2} k_{y}^{2} + 64 \\pi^{6} T^{2} W_{xxt}^{2} \\sigma_{d}^{2} k_{t}^{2} k_{y}^{4}}$"
      ],
      "text/plain": [
       "A_d*L**4*T**4*rho/(L**4*T**4*rho + 16*pi**4*L**4*W_{tt}**2*\\sigma_d**2*k_t**4 + 64*pi**6*T**2*W_{xxt}**2*\\sigma_d**2*k_t**2*k_x**4 + 128*pi**6*T**2*W_{xxt}**2*\\sigma_d**2*k_t**2*k_x**2*k_y**2 + 64*pi**6*T**2*W_{xxt}**2*\\sigma_d**2*k_t**2*k_y**4)"
      ]
     },
     "execution_count": 58,
     "metadata": {},
     "output_type": "execute_result"
    }
   ],
   "source": [
    "# solve for model amplitude that minimizes the combined residual:\n",
    "A_best=sp.solve(sp.diff(R, Am), Am)[0]\n",
    "A_best"
   ]
  },
  {
   "cell_type": "code",
   "execution_count": 59,
   "metadata": {},
   "outputs": [
    {
     "data": {
      "text/latex": [
       "$\\displaystyle 1 + \\frac{16 \\pi^{4} W_{tt}^{2} \\sigma_{d}^{2} k_{t}^{4}}{T^{4} \\rho} + \\frac{64 \\pi^{6} W_{xxt}^{2} \\sigma_{d}^{2} k_{t}^{2} k_{x}^{4}}{L^{4} T^{2} \\rho} + \\frac{128 \\pi^{6} W_{xxt}^{2} \\sigma_{d}^{2} k_{t}^{2} k_{x}^{2} k_{y}^{2}}{L^{4} T^{2} \\rho} + \\frac{64 \\pi^{6} W_{xxt}^{2} \\sigma_{d}^{2} k_{t}^{2} k_{y}^{4}}{L^{4} T^{2} \\rho}$"
      ],
      "text/plain": [
       "1 + 16*pi**4*W_{tt}**2*\\sigma_d**2*k_t**4/(T**4*rho) + 64*pi**6*W_{xxt}**2*\\sigma_d**2*k_t**2*k_x**4/(L**4*T**2*rho) + 128*pi**6*W_{xxt}**2*\\sigma_d**2*k_t**2*k_x**2*k_y**2/(L**4*T**2*rho) + 64*pi**6*W_{xxt}**2*\\sigma_d**2*k_t**2*k_y**4/(L**4*T**2*rho)"
      ]
     },
     "execution_count": 59,
     "metadata": {},
     "output_type": "execute_result"
    }
   ],
   "source": [
    "# simplify the denominator:\n",
    "sp.expand(1/(A_best/(Ad)))"
   ]
  },
  {
   "cell_type": "markdown",
   "metadata": {},
   "source": [
    "It's not clear how best to simplify this expression, but working by hand gives this expression as equivalent to A_best"
   ]
  },
  {
   "cell_type": "code",
   "execution_count": 49,
   "metadata": {},
   "outputs": [
    {
     "data": {
      "text/latex": [
       "$\\displaystyle \\frac{A_{d} L^{4} T^{4} \\rho}{L^{4} T^{4} \\rho + 16 \\pi^{4} \\sigma_{d}^{2} k_{t}^{2} \\left(L^{4} W_{tt}^{2} k_{t}^{2} + 4 \\pi^{2} T^{2} W_{xxt}^{2} \\left(k_{x}^{2} + k_{y}^{2}\\right)^{2}\\right)}$"
      ],
      "text/plain": [
       "A_d*L**4*T**4*rho/(L**4*T**4*rho + 16*pi**4*\\sigma_d**2*k_t**2*(L**4*W_{tt}**2*k_t**2 + 4*pi**2*T**2*W_{xxt}**2*(k_x**2 + k_y**2)**2))"
      ]
     },
     "execution_count": 49,
     "metadata": {},
     "output_type": "execute_result"
    }
   ],
   "source": [
    "sp.simplify(Ad*rd/s**2 /  (rd/s**2 + 16*sp.pi**4*(Wtt**2*kt**4/T**4 + 4*sp.pi**2*kt**2*Wxxt**2*(kx**2+ky**2)**2/(L**4*T**2))))"
   ]
  },
  {
   "cell_type": "markdown",
   "metadata": {},
   "source": [
    "...or better yet..."
   ]
  },
  {
   "cell_type": "code",
   "execution_count": 68,
   "metadata": {
    "scrolled": true
   },
   "outputs": [
    {
     "data": {
      "text/latex": [
       "$\\displaystyle \\frac{A_{d}}{\\frac{16 \\pi^{4} \\sigma_{d}^{2} k_{t}^{2} \\left(\\frac{W_{tt}^{2} k_{t}^{2}}{T^{4}} + \\frac{4 \\pi^{2} W_{xxt}^{2} \\left(k_{x}^{2} + k_{y}^{2}\\right)^{2}}{L^{4} T^{2}}\\right)}{\\rho} + 1}$"
      ],
      "text/plain": [
       "A_d/(16*pi**4*\\sigma_d**2*k_t**2*(W_{tt}**2*k_t**2/T**4 + 4*pi**2*W_{xxt}**2*(k_x**2 + k_y**2)**2/(L**4*T**2))/rho + 1)"
      ]
     },
     "execution_count": 68,
     "metadata": {},
     "output_type": "execute_result"
    }
   ],
   "source": [
    "Ad/(1+16*sp.pi**4*s**2*kt**2/rd*(Wtt**2*kt**2/T**4 + 4*sp.pi**2*T**2*Wxxt**2*(kx**2+ky**2)**2/(L**4*T**4)))"
   ]
  },
  {
   "cell_type": "markdown",
   "metadata": {},
   "source": [
    "Writing this in terms of wavelength ($ L (k_x^2+ky^2)^{-2}$) and period ($\\tau = T/k_t$), "
   ]
  },
  {
   "cell_type": "code",
   "execution_count": 69,
   "metadata": {},
   "outputs": [
    {
     "data": {
      "text/latex": [
       "$\\displaystyle \\frac{A_{d}}{\\frac{16 \\pi^{4} \\sigma_{d}^{2} \\left(\\frac{W_{tt}^{2}}{\\tau^{4}} + \\frac{4 \\pi^{2} W_{xxt}^{2}}{\\lambda^{4} \\tau^{2}}\\right)}{\\rho} + 1}$"
      ],
      "text/plain": [
       "A_d/(16*pi**4*\\sigma_d**2*(W_{tt}**2/tau**4 + 4*pi**2*W_{xxt}**2/(\\lambda**4*tau**2))/rho + 1)"
      ]
     },
     "execution_count": 69,
     "metadata": {},
     "output_type": "execute_result"
    }
   ],
   "source": [
    "Ad/(1+16*sp.pi**4*s**2/rd*(Wtt**2/tau**4 + 4*sp.pi**2*Wxxt**2/(lam**4*tau**2)))"
   ]
  },
  {
   "cell_type": "markdown",
   "metadata": {},
   "source": [
    "To choose a value of $W_{tt}$, we look for the wavelength where $A_{best} = A_d/2$, or\n",
    "$$\\frac{16 \\pi^4 \\sigma_d^2}{\\rho_d} \\left(\\frac{W_{tt}^2}{\\tau^4} + \\frac{4\\pi^2W_{xxt}^2}{\\lambda^4\\tau^2}\\right) =1\\,$$\n"
   ]
  },
  {
   "cell_type": "markdown",
   "metadata": {},
   "source": [
    "For example, to suppress oscillations of period  < 0.125 yr, for data errors of 0.1 m, with 1 data point /3 km, with the temporal curvature alone, we calculate:"
   ]
  },
  {
   "cell_type": "markdown",
   "metadata": {},
   "source": [
    "$$ \\frac{W_{tt}^2}{\\tau^4} = \\frac{\\rho}{16 \\pi^4 \\sigma_d^2}$$\n",
    "\n",
    "$$ W_{tt} = \\frac{\\tau^2\\rho^{1/2}}{4 \\pi^2 \\sigma_d}$$"
   ]
  },
  {
   "cell_type": "code",
   "execution_count": 75,
   "metadata": {},
   "outputs": [
    {
     "name": "stdout",
     "output_type": "stream",
     "text": [
      "6919.4303540850005\n",
      "6919.4303540850005\n"
     ]
    }
   ],
   "source": [
    "taui=0.125  # 1/8 year period\n",
    "Ti=1 # 1 year\n",
    "kti = Ti/taui\n",
    "rho_tr=4/3000   # 4 measurements/year/3 km\n",
    "si=0.1 # 0.1 m error\n",
    "Wtti = np.sqrt((Ti**4*rho_tr)/(16*np.pi**4*kti**4*si**2))\n",
    "print(1/Wtti)\n",
    "print(1/(taui**2*rho_tr**0.5/(4*np.pi**2*si)))"
   ]
  },
  {
   "cell_type": "markdown",
   "metadata": {},
   "source": [
    "We only have one independent bias value every 10 km at Jakobshavn latitude, and per-track errors might be as large as 10 m geolocation error * slope of 0.05 -> sigma of 0.5"
   ]
  },
  {
   "cell_type": "code",
   "execution_count": 12,
   "metadata": {},
   "outputs": [
    {
     "name": "stdout",
     "output_type": "stream",
     "text": [
      "631654.6816697188\n"
     ]
    }
   ],
   "source": [
    "tau=0.125  # 1/8 year period\n",
    "Ti=1 # 1 year\n",
    "kti = Ti/tau\n",
    "rho_tr=4/10000   # 4 measurements/year/3 km\n",
    "si=5 # 0.5 m error\n",
    "Wtti = np.sqrt((Ti**4*rho_tr)/(16*np.pi**4*kti**4*si**2))\n",
    "print(1/Wtti)"
   ]
  },
  {
   "cell_type": "code",
   "execution_count": 225,
   "metadata": {},
   "outputs": [
    {
     "name": "stdout",
     "output_type": "stream",
     "text": [
      "0.0003968803415078377\n"
     ]
    }
   ],
   "source": [
    "# if we want to suppress 1-km scale variations in dh/dt at a temporal scale of 0.25 yr:\n",
    "Li=1000\n",
    "wvl=500\n",
    "Ti=1\n",
    "tau=0.25\n",
    "kti=Ti/tau\n",
    "kxi=Li/wvl\n",
    "Wxxi = Li**2*Ti/(8*np.pi**3*si*kti*kxi**2)\n",
    "print(1/Wxxi)"
   ]
  }
 ],
 "metadata": {
  "kernelspec": {
   "display_name": "Python 3",
   "language": "python",
   "name": "python3"
  },
  "language_info": {
   "codemirror_mode": {
    "name": "ipython",
    "version": 3
   },
   "file_extension": ".py",
   "mimetype": "text/x-python",
   "name": "python",
   "nbconvert_exporter": "python",
   "pygments_lexer": "ipython3",
   "version": "3.8.6"
  }
 },
 "nbformat": 4,
 "nbformat_minor": 4
}
