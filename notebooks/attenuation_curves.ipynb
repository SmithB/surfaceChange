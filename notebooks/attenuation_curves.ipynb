{
 "cells": [
  {
   "cell_type": "code",
   "execution_count": 83,
   "metadata": {},
   "outputs": [],
   "source": [
    "import sympy as sp\n",
    "import numpy as np\n",
    "import matplotlib.pyplot as plt"
   ]
  },
  {
   "cell_type": "code",
   "execution_count": 53,
   "metadata": {},
   "outputs": [],
   "source": [
    "# basis vectors in x, y, and t\n",
    "x=sp.Symbol('x')\n",
    "y=sp.Symbol('y')\n",
    "t=sp.Symbol('t')\n",
    "#model and data amplitudes\n",
    "Ad=sp.Symbol('A_d')\n",
    "Am=sp.Symbol('A_m')\n",
    "\n",
    "# domain width\n",
    "L=sp.Symbol('L', positive=True, finite=True)\n",
    "# domain time dinension\n",
    "T=sp.Symbol('T', positive=True, finite=True)\n",
    "\n",
    "# data errors:\n",
    "s=sp.Symbol('\\sigma_d')\n",
    "# data density:\n",
    "rd=sp.Symbol('rho', positive=True, finite=True)\n",
    "# wavenumbers in the x, y, and t dimensions\n",
    "kx=sp.Symbol('k_x', integer=True, positive=True)\n",
    "ky=sp.Symbol('k_y', integer=True, positive=True)\n",
    "kt=sp.Symbol('k_t', integer=True, positive=True)\n",
    "# Weighting on d3z/dx2dt\n",
    "Wxxt=sp.Symbol('W_{xxt}')\n",
    "# Weighting on d2x/dt2\n",
    "Wtt=sp.Symbol('W_{tt}')\n"
   ]
  },
  {
   "cell_type": "code",
   "execution_count": 54,
   "metadata": {},
   "outputs": [
    {
     "data": {
      "text/latex": [
       "$\\displaystyle \\lambda \\tau$"
      ],
      "text/plain": [
       "\\lambda*tau"
      ]
     },
     "execution_count": 54,
     "metadata": {},
     "output_type": "execute_result"
    }
   ],
   "source": [
    "tau=sp.Symbol('tau')\n",
    "lam=sp.Symbol('\\lambda')\n",
    "tau*lam"
   ]
  },
  {
   "cell_type": "code",
   "execution_count": 55,
   "metadata": {},
   "outputs": [],
   "source": [
    "# basis functions:\n",
    "bf =sp.sin(2*kx*sp.pi*x/L) * sp.sin(2*ky*sp.pi*y/L) * sp.sin(2*kt*sp.pi*t/T) \n",
    "# model is the basis function times Am\n",
    "m=Am * bf\n",
    "# data is basis function times Ad\n",
    "d=Ad * bf"
   ]
  },
  {
   "cell_type": "code",
   "execution_count": 56,
   "metadata": {},
   "outputs": [],
   "source": [
    "# derivatives of the basis functions\n",
    "D2xtm = sp.diff(sp.diff(sp.diff(m, x),x),t)\n",
    "D2ytm = sp.diff(sp.diff(sp.diff(m, y),y),t)\n",
    "Dxytm = sp.diff(sp.diff(sp.diff(m, x),y),t)\n",
    "D2tm = sp.diff(sp.diff(m, t),t)"
   ]
  },
  {
   "cell_type": "code",
   "execution_count": 57,
   "metadata": {},
   "outputs": [],
   "source": [
    "# Combined residual:\n",
    "R=sp.integrate(\\\n",
    "               sp.integrate(\\\n",
    "    sp.integrate( rd*((d-m)/s)**2 + (Wxxt*D2xtm)**2 + (Wxxt*D2ytm)**2 + 2*(Wxxt*Dxytm)**2+(Wtt*D2tm)**2, (x, 0, L)),\\\n",
    "    (y, 0, L)), \n",
    "               (t, 0, T))"
   ]
  },
  {
   "cell_type": "markdown",
   "metadata": {},
   "source": [
    "All of the terms inside the integral have units of $m^{-2} yr^{-1}$, so that R is unitless, so every quantity inside parenthesis has units of $m yr^{-1/2}$. \n",
    "- $A_d$ and $A_m$ have units of $m$.\n",
    "- $\\rho_d$ has units of $m^{-2} yr^{-1}$ (points per meter squared per year), so $\\rho_d(d-m)/\\sigma$ has units of $m^{-2} yr^{-1}$.\n",
    "- $\\partial^3 z / \\partial x^2 \\partial t$ has units of $m^{-1} yr^{-1}$  \n",
    "- $W_{xxt}$ has units of $yr^{1/2}$ \n",
    "- $\\partial^2 z /\\partial t^2$ has units of $m yr^{-2}$\n",
    "- $W_{tt}$ has units of $m^{-2} yr^{3/2}$ \n",
    "- $k_x$, $k_y$, and $k_t$ are all unitless\n"
   ]
  },
  {
   "cell_type": "code",
   "execution_count": 76,
   "metadata": {
    "scrolled": false
   },
   "outputs": [
    {
     "data": {
      "text/latex": [
       "$\\displaystyle \\frac{2 \\pi^{4} A_{m}^{2} L^{2} W_{tt}^{2} k_{t}^{4}}{T^{3}} + \\frac{8 \\pi^{6} A_{m}^{2} W_{xxt}^{2} k_{t}^{2} k_{x}^{4}}{L^{2} T} + \\frac{16 \\pi^{6} A_{m}^{2} W_{xxt}^{2} k_{t}^{2} k_{x}^{2} k_{y}^{2}}{L^{2} T} + \\frac{8 \\pi^{6} A_{m}^{2} W_{xxt}^{2} k_{t}^{2} k_{y}^{4}}{L^{2} T} + \\frac{\\rho \\left(\\frac{A_{d}^{2} L^{2} T}{8} - \\frac{A_{d} A_{m} L^{2} T}{4} + \\frac{A_{m}^{2} L^{2} T}{8}\\right)}{\\sigma_{d}^{2}}$"
      ],
      "text/plain": [
       "2*pi**4*A_m**2*L**2*W_{tt}**2*k_t**4/T**3 + 8*pi**6*A_m**2*W_{xxt}**2*k_t**2*k_x**4/(L**2*T) + 16*pi**6*A_m**2*W_{xxt}**2*k_t**2*k_x**2*k_y**2/(L**2*T) + 8*pi**6*A_m**2*W_{xxt}**2*k_t**2*k_y**4/(L**2*T) + rho*(A_d**2*L**2*T/8 - A_d*A_m*L**2*T/4 + A_m**2*L**2*T/8)/\\sigma_d**2"
      ]
     },
     "execution_count": 76,
     "metadata": {},
     "output_type": "execute_result"
    }
   ],
   "source": [
    "R"
   ]
  },
  {
   "cell_type": "code",
   "execution_count": 58,
   "metadata": {},
   "outputs": [
    {
     "data": {
      "text/latex": [
       "$\\displaystyle \\frac{A_{d} L^{4} T^{4} \\rho}{L^{4} T^{4} \\rho + 16 \\pi^{4} L^{4} W_{tt}^{2} \\sigma_{d}^{2} k_{t}^{4} + 64 \\pi^{6} T^{2} W_{xxt}^{2} \\sigma_{d}^{2} k_{t}^{2} k_{x}^{4} + 128 \\pi^{6} T^{2} W_{xxt}^{2} \\sigma_{d}^{2} k_{t}^{2} k_{x}^{2} k_{y}^{2} + 64 \\pi^{6} T^{2} W_{xxt}^{2} \\sigma_{d}^{2} k_{t}^{2} k_{y}^{4}}$"
      ],
      "text/plain": [
       "A_d*L**4*T**4*rho/(L**4*T**4*rho + 16*pi**4*L**4*W_{tt}**2*\\sigma_d**2*k_t**4 + 64*pi**6*T**2*W_{xxt}**2*\\sigma_d**2*k_t**2*k_x**4 + 128*pi**6*T**2*W_{xxt}**2*\\sigma_d**2*k_t**2*k_x**2*k_y**2 + 64*pi**6*T**2*W_{xxt}**2*\\sigma_d**2*k_t**2*k_y**4)"
      ]
     },
     "execution_count": 58,
     "metadata": {},
     "output_type": "execute_result"
    }
   ],
   "source": [
    "# solve for model amplitude that minimizes the combined residual:\n",
    "A_best=sp.solve(sp.diff(R, Am), Am)[0]\n",
    "A_best"
   ]
  },
  {
   "cell_type": "markdown",
   "metadata": {},
   "source": [
    "It's not clear how best to simplify this expression, but working by hand gives this expression as equivalent to $A_{best}$"
   ]
  },
  {
   "cell_type": "code",
   "execution_count": 49,
   "metadata": {},
   "outputs": [
    {
     "data": {
      "text/latex": [
       "$\\displaystyle \\frac{A_{d} L^{4} T^{4} \\rho}{L^{4} T^{4} \\rho + 16 \\pi^{4} \\sigma_{d}^{2} k_{t}^{2} \\left(L^{4} W_{tt}^{2} k_{t}^{2} + 4 \\pi^{2} T^{2} W_{xxt}^{2} \\left(k_{x}^{2} + k_{y}^{2}\\right)^{2}\\right)}$"
      ],
      "text/plain": [
       "A_d*L**4*T**4*rho/(L**4*T**4*rho + 16*pi**4*\\sigma_d**2*k_t**2*(L**4*W_{tt}**2*k_t**2 + 4*pi**2*T**2*W_{xxt}**2*(k_x**2 + k_y**2)**2))"
      ]
     },
     "execution_count": 49,
     "metadata": {},
     "output_type": "execute_result"
    }
   ],
   "source": [
    "sp.simplify(Ad*rd/s**2 /  (rd/s**2 + 16*sp.pi**4*(Wtt**2*kt**4/T**4 + 4*sp.pi**2*kt**2*Wxxt**2*(kx**2+ky**2)**2/(L**4*T**2))))"
   ]
  },
  {
   "cell_type": "markdown",
   "metadata": {},
   "source": [
    "...or better yet..."
   ]
  },
  {
   "cell_type": "code",
   "execution_count": 77,
   "metadata": {
    "scrolled": true
   },
   "outputs": [
    {
     "data": {
      "text/latex": [
       "$\\displaystyle \\frac{A_{d}}{\\frac{16 \\pi^{4} \\sigma_{d}^{2} k_{t}^{2} \\left(\\frac{W_{tt}^{2} k_{t}^{2}}{T^{4}} + \\frac{4 \\pi^{2} W_{xxt}^{2} \\left(k_{x}^{2} + k_{y}^{2}\\right)^{2}}{L^{4} T^{2}}\\right)}{\\rho} + 1}$"
      ],
      "text/plain": [
       "A_d/(16*pi**4*\\sigma_d**2*k_t**2*(W_{tt}**2*k_t**2/T**4 + 4*pi**2*W_{xxt}**2*(k_x**2 + k_y**2)**2/(L**4*T**2))/rho + 1)"
      ]
     },
     "execution_count": 77,
     "metadata": {},
     "output_type": "execute_result"
    }
   ],
   "source": [
    "Ad/(1+(16*sp.pi**4*s**2*kt**2/rd)*(Wtt**2*kt**2/T**4 + 4*sp.pi**2*T**2*Wxxt**2*(kx**2+ky**2)**2/(L**4*T**4)))"
   ]
  },
  {
   "cell_type": "markdown",
   "metadata": {},
   "source": [
    "Writing this in terms of wavelength ($\\lambda= L (k_x^2+k_y^2)^{-2}$) and period ($\\tau = T/k_t$), "
   ]
  },
  {
   "cell_type": "code",
   "execution_count": 69,
   "metadata": {},
   "outputs": [
    {
     "data": {
      "text/latex": [
       "$\\displaystyle \\frac{A_{d}}{\\frac{16 \\pi^{4} \\sigma_{d}^{2} \\left(\\frac{W_{tt}^{2}}{\\tau^{4}} + \\frac{4 \\pi^{2} W_{xxt}^{2}}{\\lambda^{4} \\tau^{2}}\\right)}{\\rho} + 1}$"
      ],
      "text/plain": [
       "A_d/(16*pi**4*\\sigma_d**2*(W_{tt}**2/tau**4 + 4*pi**2*W_{xxt}**2/(\\lambda**4*tau**2))/rho + 1)"
      ]
     },
     "execution_count": 69,
     "metadata": {},
     "output_type": "execute_result"
    }
   ],
   "source": [
    "Ad/(1+16*sp.pi**4*s**2/rd*(Wtt**2/tau**4 + 4*sp.pi**2*Wxxt**2/(lam**4*tau**2)))"
   ]
  },
  {
   "cell_type": "markdown",
   "metadata": {},
   "source": [
    "To choose a value of $W_{tt}$, we look for the wavelength where $A_{best} = A_d/2$, or\n",
    "$$\\frac{16 \\pi^4 \\sigma_d^2}{\\rho_d} \\left(\\frac{W_{tt}^2}{\\tau^4} + \\frac{4\\pi^2W_{xxt}^2}{\\lambda^4\\tau^2}\\right) =1\\,$$\n"
   ]
  },
  {
   "cell_type": "markdown",
   "metadata": {},
   "source": [
    "Solving for $W_{tt}$ gives:\n",
    "$$ \\frac{W_{tt}^2}{\\tau^4} = \\frac{\\rho}{16 \\pi^4 \\sigma_d^2}$$\n",
    "\n",
    "$$ W_{tt} = \\frac{\\tau^2\\rho^{1/2}}{4 \\pi^2 \\sigma_d}$$"
   ]
  },
  {
   "cell_type": "markdown",
   "metadata": {},
   "source": [
    "And solving for $W_{xxt}$ gives:\n",
    "$$ \\frac{4 \\pi^2 W_{xxt}^2}{\\lambda^4 \\tau^2} = \\frac{\\rho}{16 \\pi^4 \\sigma_d^2}$$\n",
    "$$ W_{xxt} = \\frac{\\rho^{1/2} \\lambda^2 \\tau}{8 \\pi^3 \\sigma_d} $$"
   ]
  },
  {
   "cell_type": "markdown",
   "metadata": {},
   "source": [
    "## In 1D:"
   ]
  },
  {
   "cell_type": "code",
   "execution_count": 222,
   "metadata": {},
   "outputs": [],
   "source": [
    "# basis functions:\n",
    "bf1 =sp.sin(2*kx*sp.pi*x/L)  * sp.sin(2*kt*sp.pi*t/T) \n",
    "# model is the basis function times Am\n",
    "m1=Am * bf1\n",
    "# data is basis function times Ad\n",
    "d1=Ad * bf1"
   ]
  },
  {
   "cell_type": "code",
   "execution_count": 227,
   "metadata": {},
   "outputs": [],
   "source": [
    "# derivatives of the basis functions\n",
    "D2xtm1 = sp.diff(sp.diff(sp.diff(m1, x),x),t)\n",
    "D2tm1 = sp.diff(sp.diff(m1, t),t)"
   ]
  },
  {
   "cell_type": "code",
   "execution_count": 228,
   "metadata": {},
   "outputs": [
    {
     "data": {
      "text/latex": [
       "$\\displaystyle \\frac{4 \\pi^{4} A_{m}^{2} L W_{tt}^{2} k_{t}^{4}}{T^{3}} + \\frac{16 \\pi^{6} A_{m}^{2} W_{xxt}^{2} k_{t}^{2} k_{x}^{4}}{L^{3} T} + \\frac{\\rho \\left(\\frac{A_{d}^{2} L T}{4} - \\frac{A_{d} A_{m} L T}{2} + \\frac{A_{m}^{2} L T}{4}\\right)}{\\sigma_{d}^{2}}$"
      ],
      "text/plain": [
       "4*pi**4*A_m**2*L*W_{tt}**2*k_t**4/T**3 + 16*pi**6*A_m**2*W_{xxt}**2*k_t**2*k_x**4/(L**3*T) + rho*(A_d**2*L*T/4 - A_d*A_m*L*T/2 + A_m**2*L*T/4)/\\sigma_d**2"
      ]
     },
     "execution_count": 228,
     "metadata": {},
     "output_type": "execute_result"
    }
   ],
   "source": [
    "# Combined residual:\n",
    "R1=sp.integrate(          \n",
    "    sp.integrate( rd*((d1-m1)/s)**2 + (Wxxt*D2xtm1)**2 ++(Wtt*D2tm1)**2, \\\n",
    "        (x, 0, L)),\\\n",
    "    (t, 0, T))\n",
    "R1\n"
   ]
  },
  {
   "cell_type": "code",
   "execution_count": 229,
   "metadata": {},
   "outputs": [
    {
     "data": {
      "text/latex": [
       "$\\displaystyle \\frac{A_{d} L^{4} T^{4} \\rho}{L^{4} T^{4} \\rho + 16 \\pi^{4} L^{4} W_{tt}^{2} \\sigma_{d}^{2} k_{t}^{4} + 64 \\pi^{6} T^{2} W_{xxt}^{2} \\sigma_{d}^{2} k_{t}^{2} k_{x}^{4}}$"
      ],
      "text/plain": [
       "A_d*L**4*T**4*rho/(L**4*T**4*rho + 16*pi**4*L**4*W_{tt}**2*\\sigma_d**2*k_t**4 + 64*pi**6*T**2*W_{xxt}**2*\\sigma_d**2*k_t**2*k_x**4)"
      ]
     },
     "execution_count": 229,
     "metadata": {},
     "output_type": "execute_result"
    }
   ],
   "source": [
    "A1_best=sp.solve(sp.diff(R1, Am), Am)[0]\n",
    "A1_best"
   ]
  },
  {
   "cell_type": "markdown",
   "metadata": {},
   "source": [
    "Simplifying this (with $\\tau = T/k_t$ and $\\lambda = L/(k_x^2+k_y^2)^{1/2}$) gives:\n",
    "$$\n",
    "\\frac{A_{best}}{A_d}=\\frac{1}{1+\\frac{16\\pi^4\\sigma_d^2}{\\rho}\\left(\\frac{W_{tt}^2}{\\tau^4} + \\frac{4\\pi^2W_{xxt}^2}{\\lambda^4\\tau^2}\\right)}\n",
    "$$"
   ]
  },
  {
   "cell_type": "markdown",
   "metadata": {},
   "source": [
    "Solving for $W_{tt}$ when $A_{best}/A_d=1/2$:\n",
    "\n",
    "$$\n",
    "W_{tt} = \\frac{\\rho^{1/2}\\tau^2}{4 \\pi \\sigma_d}\n",
    "$$"
   ]
  },
  {
   "cell_type": "markdown",
   "metadata": {},
   "source": [
    "Solving for $W_{xxt}$:\n",
    "\n",
    "$$\n",
    "W_{xxt} = \\frac{\\rho^{1/2} \\lambda^2 \\tau}{8 \\pi^3 \\sigma_d}\n",
    "$$\n"
   ]
  },
  {
   "cell_type": "code",
   "execution_count": null,
   "metadata": {},
   "outputs": [],
   "source": []
  },
  {
   "cell_type": "markdown",
   "metadata": {},
   "source": [
    "### Example cases\n",
    "\n",
    "#### 1. Balancing systematic errors against temporal smoothing in a high-slope area\n",
    "We only have one independent bias value every 10 km at Jakobshavn latitude, and per-track systematic errors might be as large as 10 m geolocation error * slope of 0.05 -> sigma of 0.5"
   ]
  },
  {
   "cell_type": "code",
   "execution_count": 184,
   "metadata": {},
   "outputs": [
    {
     "name": "stdout",
     "output_type": "stream",
     "text": [
      "63165.46816697189\n"
     ]
    }
   ],
   "source": [
    "tau=0.125  # 1/8 year period\n",
    "rho_tr=4/10000   # 4 measurements/year/10 km\n",
    "si=0.5 # 0.5 m error\n",
    "Wtti = (tau**2*rho_tr**0.5/(4*np.pi**2*si))\n",
    "print(1/Wtti)"
   ]
  },
  {
   "cell_type": "markdown",
   "metadata": {},
   "source": [
    "With these parameters, the spectrum of attenuation at long wavelength should look like this: "
   ]
  },
  {
   "cell_type": "code",
   "execution_count": 190,
   "metadata": {},
   "outputs": [
    {
     "data": {
      "text/plain": [
       "<matplotlib.legend.Legend at 0x7f63770f7250>"
      ]
     },
     "execution_count": 190,
     "metadata": {},
     "output_type": "execute_result"
    },
    {
     "data": {
      "image/png": "[encoded data removed]",
      "text/plain": [
       "<Figure size 432x288 with 1 Axes>"
      ]
     },
     "metadata": {
      "needs_background": "light"
     },
     "output_type": "display_data"
    }
   ],
   "source": [
    "Wtti = 1/50000\n",
    "tau_0 = 10**np.arange(-2, 1, 0.1)\n",
    "plt.figure()\n",
    "for si in [0.03, 0.1, 0.5, 1]:\n",
    "    atten=1/(1+16*np.pi**4*si**2/rho_tr*(Wtti**2/tau_0**4))\n",
    "    plt.loglog(tau_0, atten, label=f'sigma={si:0.2f} m' )\n",
    "plt.gca().set_ylim([10**-1.1, 10**0.25])\n",
    "plt.plot(plt.gca().get_xlim(), 0.5*np.ones(2), 'k--')\n",
    "plt.xlabel('period, yr')\n",
    "plt.ylabel('attenuation')\n",
    "plt.legend()"
   ]
  },
  {
   "cell_type": "markdown",
   "metadata": {},
   "source": [
    "#### 2.  Balancing per-ref-point errors against spatio-temporal smoothing in a low-slope environment"
   ]
  },
  {
   "cell_type": "code",
   "execution_count": 249,
   "metadata": {},
   "outputs": [
    {
     "name": "stdout",
     "output_type": "stream",
     "text": [
      "solution value:5.43e-05, ATL15 value: 3.00e-05\n"
     ]
    }
   ],
   "source": [
    "# if we want to suppress 1-km scale variations in dh/dt at a temporal scale of 0.125 yr:\n",
    "lambda_i=1000\n",
    "tau=0.25\n",
    "si=0.01\n",
    "rho_data=4/120 # 4 points/year every 120 m\n",
    "Wxxti = lambda_i**2*tau*rho_data**0.5/(8*np.pi**3*si)\n",
    "print(f'solution value:{1/Wxxti:2.2e}, ATL15 value: {0.00003:2.2e}')\n",
    "#print(0.00003)"
   ]
  },
  {
   "cell_type": "markdown",
   "metadata": {},
   "source": [
    "The spectrum for these plots looks like this:"
   ]
  },
  {
   "cell_type": "code",
   "execution_count": 246,
   "metadata": {},
   "outputs": [
    {
     "data": {
      "text/plain": [
       "Text(0, 0.5, 'attenuation')"
      ]
     },
     "execution_count": 246,
     "metadata": {},
     "output_type": "execute_result"
    },
    {
     "data": {
      "image/png": "[encoded data removed]",
      "text/plain": [
       "<Figure size 432x288 with 1 Axes>"
      ]
     },
     "metadata": {
      "needs_background": "light"
     },
     "output_type": "display_data"
    }
   ],
   "source": [
    "plt.figure();\n",
    "Wxxti=1/5.4e-5\n",
    "si=0.01\n",
    "rho_data=4/120  \n",
    "lambda_i = 10**np.arange(1., 4.5, 0.1)\n",
    "\n",
    "for tau_0 in [0.125, 0.25, 0.5,  2]:\n",
    "    atten=1/(1+16*np.pi**4*si**2/rho_data*(4*np.pi**2*Wxxti**2/(lambda_i**4*tau_0**2)))\n",
    "    plt.loglog(lambda_i, atten, label=f\"$\\\\tau$={tau_0:2.3f}yr\")\n",
    "\n",
    "plt.gca().set_xlim([100, 10**4.5])\n",
    "plt.gca().set_ylim([0.05, 2])\n",
    "plt.plot(plt.gca().get_xlim(), 0.5*np.ones(2), 'k--')\n",
    "\n",
    "plt.legend()\n",
    "plt.xlabel('$\\lambda$, m')\n",
    "plt.ylabel('attenuation')\n"
   ]
  },
  {
   "cell_type": "code",
   "execution_count": null,
   "metadata": {},
   "outputs": [],
   "source": []
  }
 ],
 "metadata": {
  "kernelspec": {
   "display_name": "Python 3",
   "language": "python",
   "name": "python3"
  },
  "language_info": {
   "codemirror_mode": {
    "name": "ipython",
    "version": 3
   },
   "file_extension": ".py",
   "mimetype": "text/x-python",
   "name": "python",
   "nbconvert_exporter": "python",
   "pygments_lexer": "ipython3",
   "version": "3.8.6"
  }
 },
 "nbformat": 4,
 "nbformat_minor": 4
}
