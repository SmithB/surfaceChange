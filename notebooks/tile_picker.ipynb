{
 "cells": [
  {
   "cell_type": "code",
   "execution_count": null,
   "metadata": {},
   "outputs": [],
   "source": [
    "import matplotlib.pyplot as plt\n",
    "import numpy as np\n",
    "import glob\n",
    "import h5py\n",
    "import os\n",
    "import re\n",
    "import pointCollection as pc\n",
    "tile_re=re.compile('E(.*)_N(.*).h5')\n"
   ]
  },
  {
   "cell_type": "code",
   "execution_count": null,
   "metadata": {},
   "outputs": [],
   "source": [
    "%matplotlib widget"
   ]
  },
  {
   "cell_type": "code",
   "execution_count": null,
   "metadata": {},
   "outputs": [],
   "source": [
    "import time\n",
    "import matplotlib.pyplot as plt\n",
    "import numpy as np\n",
    "import glob\n",
    "import h5py\n",
    "import os\n",
    "import re\n",
    "import pointCollection as pc\n",
    "\n",
    "class tile_picker(object):\n",
    "    def __init__(self, thedir, handles=None, W=8.e4, map_data=None, **map_args):\n",
    "        \n",
    "        tile_re=re.compile('E(.*)_N(.*).h5')\n",
    "        self.xy_file_dict = {tuple(1000*np.array([*map(int, tile_re.search(ff).groups())])):ff \n",
    "                             for ff in glob.glob(thedir+'/*.h5') }\n",
    "        self.xy_tiles = np.array(list(self.xy_file_dict.keys()))\n",
    "        \n",
    "        if handles is not None and len(handles):\n",
    "            self.handles=handles\n",
    "        else:\n",
    "            self.handles={}\n",
    "            self.__init_new_ui__(map_data, map_args)\n",
    "        self.messages=[[]]\n",
    "        self.last_pt=[[]]\n",
    "        self.last_file=''\n",
    "        self.dz_picker=None\n",
    "        self.last_click_time=0.0\n",
    "        self.max_click_time = 0.1\n",
    "\n",
    "        self.W=W\n",
    "\n",
    "        self.cid=self.handles['figure'].canvas.mpl_connect('button_press_event', self.buttondown)\n",
    "        self.cid=self.handles['figure'].canvas.mpl_connect('button_release_event', self.buttonup)\n",
    "    \n",
    "    def __init_new_ui__(self, map_data, map_args):\n",
    "        if 'figure' not in self.handles:\n",
    "            self.handles['figure']=plt.figure()\n",
    "        if 'tiles_ax' not in self.handles:\n",
    "            self.handles['tiles_ax'], self.handles['messages']=\\\n",
    "            self.handles['figure'].subplots(1,2)\n",
    "        if map_data is not None:\n",
    "            map_data.show(ax=self.handles['tiles_ax'], **map_args)\n",
    "        self.handles['tiles_ax'].plot(self.xy_tiles[:,0], self.xy_tiles[:,1],'k.')\n",
    "            \n",
    "    def buttondown(self, event):\n",
    "        if not event.inaxes in [self.handles['tiles_ax']]:\n",
    "            return\n",
    "        self.last_click_time=time.time()\n",
    "    def buttonup(self, event):\n",
    "        try:\n",
    "            if not event.inaxes in [self.handles['tiles_ax']]:\n",
    "                self.messages += ['tile_picker: last point not in tiles axis']\n",
    "                return\n",
    "            dt_click = time.time()-self.last_click_time\n",
    "            if time.time()-self.last_click_time > self.max_click_time:\n",
    "                self.messages += [f'too much time has elapsed : {dt_click}']\n",
    "                return\n",
    "            xy0=(event.xdata, event.ydata)\n",
    "            xy_tile = tuple((np.round(np.array(xy0)/(self.W/2))*self.W/2).astype(int))\n",
    "            self.messages = [f'xy0={xy0}, xy_tile={xy_tile}']\n",
    "            if xy_tile not in self.xy_file_dict:\n",
    "                self.messages += [f'searching by dist for {xy0}']\n",
    "                this = np.argmin((self.xy_tiles[:,0]-xy0[0])**2 + (self.xy_tiles[:,1]-xy0[1])**2)\n",
    "                xy_tile = tuple(self.xy_tiles[this,:]) \n",
    "            self.last_file=self.xy_file_dict[xy_tile]\n",
    "            self.handles['tiles_ax'].plot(xy0[0], xy0[1],'x')\n",
    "            self.handles['tiles_ax'].plot(xy_tile[0], xy_tile[1],'r.')\n",
    "\n",
    "        except Exception as e:\n",
    "            self.messages += [e]\n",
    "            self.handles['tiles_ax'].set_title('ERROR')"
   ]
  },
  {
   "cell_type": "code",
   "execution_count": null,
   "metadata": {},
   "outputs": [],
   "source": [
    "thedir='/att/nobackup/project/icesat-2/ATL14_processing/rel001/north/CS'"
   ]
  },
  {
   "cell_type": "code",
   "execution_count": null,
   "metadata": {},
   "outputs": [],
   "source": [
    "nc_file='/att/nobackup/project/icesat-2/ATL14_processing/rel001/north/CS/ATL14_CS_0310_100m_001_01.nc'\n",
    "bounds={'lat':[], 'lon':[]}\n",
    "\n",
    "with h5py.File(nc_file,'r') as h5f:\n",
    "    h_fill=np.float((h5f['h'].attrs['_FillValue']))\n",
    "    #print(h5f.keys())"
   ]
  },
  {
   "cell_type": "code",
   "execution_count": null,
   "metadata": {},
   "outputs": [],
   "source": [
    "D=pc.grid.data().from_h5(nc_file, fields=['h','h_sigma','ice_mask'])"
   ]
  },
  {
   "cell_type": "code",
   "execution_count": null,
   "metadata": {},
   "outputs": [],
   "source": [
    "D.h[D.h==h_fill]=np.NaN\n",
    "D.ice_mask=D.ice_mask.astype(np.float)\n",
    "D.ice_mask[D.ice_mask==127]=np.NaN"
   ]
  },
  {
   "cell_type": "code",
   "execution_count": null,
   "metadata": {},
   "outputs": [],
   "source": []
  },
  {
   "cell_type": "code",
   "execution_count": null,
   "metadata": {},
   "outputs": [],
   "source": [
    "tp=tile_picker(os.path.dirname(nc_file)+'/*/', map_data=D, field='ice_mask')"
   ]
  },
  {
   "cell_type": "code",
   "execution_count": null,
   "metadata": {},
   "outputs": [],
   "source": [
    "\n",
    "z0=pc.grid.data().from_h5(tp.last_file, group='z0')\n",
    "hf, hax=plt.subplots(1,2, sharex=True, sharey=True)\n",
    "z0.show(field='mask', ax=hax[0])\n",
    "z0.show(field='count', ax=hax[1])"
   ]
  },
  {
   "cell_type": "code",
   "execution_count": null,
   "metadata": {},
   "outputs": [],
   "source": [
    "plt.figure()\n",
    "plt.imshow(z0.cell_area)"
   ]
  },
  {
   "cell_type": "code",
   "execution_count": null,
   "metadata": {},
   "outputs": [],
   "source": [
    "plt.figure(); \n",
    "z0.z0[~np.isfinite(z0.mask)]=np.NaN\n",
    "z0.z0[z0.mask==0]=np.NaN\n",
    "z0.show(field='z0')\n",
    "plt.colorbar()"
   ]
  },
  {
   "cell_type": "code",
   "execution_count": null,
   "metadata": {},
   "outputs": [],
   "source": [
    "from scipy.interpolate import interpn\n",
    "class dz_picker(object):\n",
    "    def __init__(self, handles, file_dict=None, dz_dict=None, file_args=None, W=2.e3):\n",
    "        self.handles=handles\n",
    "        self.dz_dict=dz_dict\n",
    "        self.messages=[[]]\n",
    "        self.last_pt=[[]]\n",
    "        self.file_dict=file_dict\n",
    "        if file_args is None:\n",
    "            self.file_args={}\n",
    "        else:\n",
    "            self.file_args=file_args\n",
    "        self.dz_dict=dz_dict\n",
    "        self.W=W\n",
    "        self.cid = self.handles['figure'].canvas.mpl_connect('button_press_event', self)\n",
    "    \n",
    "    def __call__(self, event):\n",
    "        try:\n",
    "            if not event.inaxes in [self.handles['map_ax']]:\n",
    "                self.messages += ['dz_picker: last point not in tiles axis']\n",
    "            xy0=(event.xdata, event.ydata)\n",
    "            self.last_pt += [xy0]\n",
    "            tx = 'xy =[%f,%f]' % xy0\n",
    "            self.handles['plot_ax'].set_title(tx)\n",
    "            if self.dz_dict is not None:\n",
    "                dz_dict=self.dz_dict\n",
    "            elif self.file_dict is not None:\n",
    "                dz_dict={}\n",
    "                for key, file in self.file_dict.items():\n",
    "                    pad=np.array([-0.5, 0.5])*self.W\n",
    "                    dz_dict[key]=pc.grid.data().from_h5(file, bounds=[xy0[0]+pad, xy0[1]+pad], **self.file_args)\n",
    "            for key, dz0 in dz_dict.items():\n",
    "                tt=dz0.t\n",
    "                \n",
    "                zz=interpn((dz0.y, dz0.x, dz0.t), dz0.dz, (event.ydata*np.ones_like(tt), event.xdata*np.ones_like(tt), tt))\n",
    "                h_line=self.handles['plot_ax'].plot(tt, zz, label=tx+' '+str(key))\n",
    "                \n",
    "                if 'sigma_dz' in dz0.fields:\n",
    "                    szz=interpn((dz0.y, dz0.x, dz0.t), dz0.sigma_dz, (event.ydata*np.ones_like(tt), event.xdata*np.ones_like(tt), tt))\n",
    "                    color=h_line[0].get_color()\n",
    "                    for sign in [-1, 1]:\n",
    "                        self.handles['plot_ax'].plot(tt, zz+sign*szz,'--', color=color)                   \n",
    "            y_vals=np.r_[[item._y.ravel() for item in self.handles['plot_ax'].lines]].ravel()\n",
    "            self.handles['plot_ax'].set_ylim([np.nanmin(y_vals), np.nanmax(y_vals)])\n",
    "        except Exception as e:\n",
    "            self.messages += [e]\n",
    "            plt.gca().set_title('ERROR')\n",
    "        self.handles['plot_ax'].figure.canvas.draw()\n",
    "    \n",
    "    def clear_lines(self):\n",
    "        lines=list(self.handles['plot_ax'].lines)\n",
    "        for line_no in range(len(list(self.handles['plot_ax'].lines))):\n",
    "            self.handles['plot_ax'].lines.pop(0)\n",
    "        self.handles['plot_ax'].figure.canvas.draw()"
   ]
  },
  {
   "cell_type": "code",
   "execution_count": null,
   "metadata": {},
   "outputs": [],
   "source": [
    "dz=pc.grid.data().from_h5(tp.last_file, group='dz')\n",
    "z0=pc.grid.data().from_h5(tp.last_file, group='z0')\n"
   ]
  },
  {
   "cell_type": "code",
   "execution_count": null,
   "metadata": {},
   "outputs": [],
   "source": [
    "fig, hax=plt.subplots(1,2)\n",
    "\n",
    "for tslice in range(dz.dz.shape[2]):\n",
    "    dz.dz[:,:,tslice][dz.cell_area==0]=np.NaN\n",
    "    dz.sigma_dz[:,:,tslice][dz.cell_area==0]=np.NaN\n",
    "\n",
    "z0.z0[z0.cell_area==0]=np.NaN\n",
    "\n",
    "z0.show(ax=hax[0], gradient=True, cmap='gray', field='z0', clim=[-0.1, 0.1], interpolation='nearest')\n",
    "hax[0].imshow(np.std(np.diff(dz.dz, axis=2), axis=2), clim=[0, 0.5], alpha=0.3, extent=dz.extent, origin='lower')\n",
    "dzp=dz_picker({'figure':fig,'map_ax':hax[0], 'plot_ax':hax[1]}, dz_dict={tp.last_file:dz})\n",
    "\n",
    "\n"
   ]
  },
  {
   "cell_type": "code",
   "execution_count": null,
   "metadata": {},
   "outputs": [],
   "source": [
    "dzp.messages"
   ]
  },
  {
   "cell_type": "code",
   "execution_count": null,
   "metadata": {},
   "outputs": [],
   "source": [
    "dzp.clear_lines()"
   ]
  },
  {
   "cell_type": "code",
   "execution_count": null,
   "metadata": {},
   "outputs": [],
   "source": [
    "D=pc.data().from_h5(tp.last_file, group='data')"
   ]
  },
  {
   "cell_type": "code",
   "execution_count": null,
   "metadata": {},
   "outputs": [],
   "source": [
    "ii=D.cycle==1\n",
    "hax[0].plot(D.x[ii], D.y[ii],'b.')\n",
    "ii &= (D.three_sigma_edit==1)\n",
    "hax[0].plot(D.x[ii], D.y[ii],'r.')\n"
   ]
  },
  {
   "cell_type": "code",
   "execution_count": null,
   "metadata": {},
   "outputs": [],
   "source": [
    "np.sum(ii)"
   ]
  },
  {
   "cell_type": "code",
   "execution_count": null,
   "metadata": {},
   "outputs": [],
   "source": [
    "from scipy.ndimage import label"
   ]
  },
  {
   "cell_type": "code",
   "execution_count": null,
   "metadata": {},
   "outputs": [],
   "source": []
  },
  {
   "cell_type": "code",
   "execution_count": null,
   "metadata": {},
   "outputs": [],
   "source": [
    "plt.figure(); plt.imshow(islets[0], cmap='jet', origin='lower')"
   ]
  },
  {
   "cell_type": "code",
   "execution_count": null,
   "metadata": {},
   "outputs": [],
   "source": [
    "from scipy.ndimage import label\n",
    "\n",
    "components, n_components = label(dz.cell_area>0)\n",
    "first_epoch=np.zeros(n_components, dtype=int)+n_components\n",
    "last_epoch=np.zeros(n_components, dtype=int)\n",
    "\n",
    "for comp in range(1, n_components):\n",
    "    these = components==comp\n",
    "    for t_slice in range(dz.shape[2]):\n",
    "        sampled=np.any(dz.count[:,:,t_slice][these]>1)\n",
    "        if t_slice <= first_epoch[comp]:\n",
    "            if sampled:\n",
    "                first_epoch[comp]=t_slice\n",
    "        if t_slice >= last_epoch[comp]:\n",
    "            if sampled:\n",
    "                last_epoch[comp]=t_slice\n",
    "\n",
    "last_epoch_map=np.zeros_like(dz.cell_area)+np.NaN\n",
    "first_epoch_map=np.zeros_like(dz.cell_area)+np.NaN\n",
    "\n",
    "for comp in range(1, n_components):\n",
    "    last_epoch_map[components==comp]=last_epoch[comp]\n",
    "    first_epoch_map[components==comp]=first_epoch[comp]\n",
    "\n",
    "for t_slice in range(dz.dz.shape[2]):\n",
    "    dz.dz[:,:,t_slice][t_slice < first_epoch_map]=np.NaN\n",
    "    dz.dz[:,:,t_slice][t_slice > last_epoch_map]=np.NaN"
   ]
  },
  {
   "cell_type": "code",
   "execution_count": null,
   "metadata": {},
   "outputs": [],
   "source": [
    "last_epoch_map=np.zeros_like(dz.cell_area)+np.NaN\n",
    "first_epoch_map=np.zeros_like(dz.cell_area)+np.NaN\n",
    "\n",
    "for comp in range(1, n_components):\n",
    "    last_epoch_map[components==comp]=last_epoch[comp]\n",
    "    first_epoch_map[components==comp]=first_epoch[comp]"
   ]
  },
  {
   "cell_type": "code",
   "execution_count": null,
   "metadata": {},
   "outputs": [],
   "source": [
    "for t_slice in range(dz.dz.shape[2]):\n",
    "    dz.dz[:,:,t_slice][t_slice < first_epoch_map]=np.NaN\n",
    "    dz.dz[:,:,t_slice][t_slice > last_epoch_map]=np.NaN"
   ]
  },
  {
   "cell_type": "code",
   "execution_count": null,
   "metadata": {},
   "outputs": [],
   "source": [
    "#plt.figure(); plt.imshow(first_epoch_map, origin='lower')\n",
    "plt.figure(); plt.imshow(z0.sigma_z0, origin='lower', clim=[0, 10])\n",
    "#plt.figure(); plt.imshow(dz.dz[:,:,0], origin='lower')"
   ]
  },
  {
   "cell_type": "code",
   "execution_count": null,
   "metadata": {},
   "outputs": [],
   "source": [
    "t_slice=0\n",
    "dz.dz[:,:,t_slice][t_slice < first_epoch_map]"
   ]
  },
  {
   "cell_type": "code",
   "execution_count": null,
   "metadata": {},
   "outputs": [],
   "source": [
    "plt.figure(); plt.imshow(dz.sigma_dz[:,:,0], clim=[0, 5])"
   ]
  },
  {
   "cell_type": "code",
   "execution_count": null,
   "metadata": {},
   "outputs": [],
   "source": [
    "plt.figure(); plt.plot(z0.y, z0.sigma_z0,'.')"
   ]
  },
  {
   "cell_type": "code",
   "execution_count": null,
   "metadata": {},
   "outputs": [],
   "source": []
  }
 ],
 "metadata": {
  "kernelspec": {
   "display_name": "Python 3",
   "language": "python",
   "name": "python3"
  },
  "language_info": {
   "codemirror_mode": {
    "name": "ipython",
    "version": 3
   },
   "file_extension": ".py",
   "mimetype": "text/x-python",
   "name": "python",
   "nbconvert_exporter": "python",
   "pygments_lexer": "ipython3",
   "version": "3.8.6"
  }
 },
 "nbformat": 4,
 "nbformat_minor": 4
}
